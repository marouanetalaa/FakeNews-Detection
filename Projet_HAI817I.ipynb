{
  "cells": [
    {
      "cell_type": "markdown",
      "metadata": {
        "id": "cnNpG52kTUZm"
      },
      "source": [
        "# Projet de Machine Learning\n",
        "## Fake News Detection"
      ]
    },
    {
      "cell_type": "markdown",
      "metadata": {
        "id": "wkSIFeb3NYyP"
      },
      "source": [
        "## Mise en place"
      ]
    },
    {
      "cell_type": "markdown",
      "metadata": {
        "id": "4f-pCuftZmXx"
      },
      "source": [
        "Lien avec Gdrive"
      ]
    },
    {
      "cell_type": "code",
      "execution_count": 1,
      "metadata": {
        "colab": {
          "base_uri": "https://localhost:8080/"
        },
        "id": "6iFcfTDpZo6y",
        "outputId": "e2a71406-9535-41a9-f049-01062f72a3d4"
      },
      "outputs": [
        {
          "output_type": "stream",
          "name": "stdout",
          "text": [
            "Mounted at /content/gdrive\n",
            "/content/gdrive/MyDrive/M1/Projet/donnees\n",
            "HAI817_Projet_test.csv   \u001b[0m\u001b[01;34mModels\u001b[0m/            Projet_HAI817I.ipynb\n",
            "HAI817_Projet_train.csv  MyNLPUtilities.py  \u001b[01;34m__pycache__\u001b[0m/\n"
          ]
        }
      ],
      "source": [
        "import sys\n",
        "from google.colab import drive\n",
        "drive.mount('/content/gdrive')\n",
        "my_local_drive='/content/gdrive/MyDrive/M1/Projet/donnees'\n",
        "\n",
        "%cd $my_local_drive\n",
        "%pwd\n",
        "%ls"
      ]
    },
    {
      "cell_type": "markdown",
      "metadata": {
        "id": "61_w_hYuRSph"
      },
      "source": [
        "Importation des différentes librairies requises"
      ]
    },
    {
      "cell_type": "code",
      "execution_count": 2,
      "metadata": {
        "colab": {
          "base_uri": "https://localhost:8080/"
        },
        "id": "0lYii612ZiuL",
        "outputId": "d858367c-7d08-4677-f265-d1042177be07"
      },
      "outputs": [
        {
          "output_type": "stream",
          "name": "stdout",
          "text": [
            "Looking in indexes: https://pypi.org/simple, https://us-python.pkg.dev/colab-wheels/public/simple/\n",
            "Requirement already satisfied: pip in /usr/local/lib/python3.10/dist-packages (23.0.1)\n",
            "Collecting pip\n",
            "  Downloading pip-23.1.2-py3-none-any.whl (2.1 MB)\n",
            "\u001b[2K     \u001b[90m━━━━━━━━━━━━━━━━━━━━━━━━━━━━━━━━━━━━━━━━\u001b[0m \u001b[32m2.1/2.1 MB\u001b[0m \u001b[31m14.2 MB/s\u001b[0m eta \u001b[36m0:00:00\u001b[0m\n",
            "\u001b[?25hInstalling collected packages: pip\n",
            "  Attempting uninstall: pip\n",
            "    Found existing installation: pip 23.0.1\n",
            "    Uninstalling pip-23.0.1:\n",
            "      Successfully uninstalled pip-23.0.1\n",
            "Successfully installed pip-23.1.2\n",
            "Looking in indexes: https://pypi.org/simple, https://us-python.pkg.dev/colab-wheels/public/simple/\n",
            "Collecting langdetect\n",
            "  Downloading langdetect-1.0.9.tar.gz (981 kB)\n",
            "\u001b[2K     \u001b[90m━━━━━━━━━━━━━━━━━━━━━━━━━━━━━━━━━━━━━━\u001b[0m \u001b[32m981.5/981.5 kB\u001b[0m \u001b[31m10.2 MB/s\u001b[0m eta \u001b[36m0:00:00\u001b[0m\n",
            "\u001b[?25h  Preparing metadata (setup.py) ... \u001b[?25l\u001b[?25hdone\n",
            "Requirement already satisfied: six in /usr/local/lib/python3.10/dist-packages (from langdetect) (1.16.0)\n",
            "Building wheels for collected packages: langdetect\n",
            "  Building wheel for langdetect (setup.py) ... \u001b[?25l\u001b[?25hdone\n",
            "  Created wheel for langdetect: filename=langdetect-1.0.9-py3-none-any.whl size=993243 sha256=d76f10d1ed2022aa16637a4926b4e094f4129e4bfe421f197a56c47bf8896e74\n",
            "  Stored in directory: /root/.cache/pip/wheels/95/03/7d/59ea870c70ce4e5a370638b5462a7711ab78fba2f655d05106\n",
            "Successfully built langdetect\n",
            "Installing collected packages: langdetect\n",
            "Successfully installed langdetect-1.0.9\n",
            "\u001b[33mWARNING: Running pip as the 'root' user can result in broken permissions and conflicting behaviour with the system package manager. It is recommended to use a virtual environment instead: https://pip.pypa.io/warnings/venv\u001b[0m\u001b[33m\n",
            "\u001b[0mLooking in indexes: https://pypi.org/simple, https://us-python.pkg.dev/colab-wheels/public/simple/\n",
            "Collecting contractions\n",
            "  Downloading contractions-0.1.73-py2.py3-none-any.whl (8.7 kB)\n",
            "Collecting textsearch>=0.0.21 (from contractions)\n",
            "  Downloading textsearch-0.0.24-py2.py3-none-any.whl (7.6 kB)\n",
            "Collecting anyascii (from textsearch>=0.0.21->contractions)\n",
            "  Downloading anyascii-0.3.2-py3-none-any.whl (289 kB)\n",
            "\u001b[2K     \u001b[90m━━━━━━━━━━━━━━━━━━━━━━━━━━━━━━━━━━━━━━━\u001b[0m \u001b[32m289.9/289.9 kB\u001b[0m \u001b[31m6.1 MB/s\u001b[0m eta \u001b[36m0:00:00\u001b[0m\n",
            "\u001b[?25hCollecting pyahocorasick (from textsearch>=0.0.21->contractions)\n",
            "  Downloading pyahocorasick-2.0.0-cp310-cp310-manylinux_2_5_x86_64.manylinux1_x86_64.manylinux_2_12_x86_64.manylinux2010_x86_64.whl (110 kB)\n",
            "\u001b[2K     \u001b[90m━━━━━━━━━━━━━━━━━━━━━━━━━━━━━━━━━━━━━━\u001b[0m \u001b[32m110.8/110.8 kB\u001b[0m \u001b[31m11.0 MB/s\u001b[0m eta \u001b[36m0:00:00\u001b[0m\n",
            "\u001b[?25hInstalling collected packages: pyahocorasick, anyascii, textsearch, contractions\n",
            "Successfully installed anyascii-0.3.2 contractions-0.1.73 pyahocorasick-2.0.0 textsearch-0.0.24\n",
            "\u001b[33mWARNING: Running pip as the 'root' user can result in broken permissions and conflicting behaviour with the system package manager. It is recommended to use a virtual environment instead: https://pip.pypa.io/warnings/venv\u001b[0m\u001b[33m\n",
            "\u001b[0mLooking in indexes: https://pypi.org/simple, https://us-python.pkg.dev/colab-wheels/public/simple/\n",
            "Requirement already satisfied: wordcloud==1.8.2.2 in /usr/local/lib/python3.10/dist-packages (1.8.2.2)\n",
            "Requirement already satisfied: numpy>=1.6.1 in /usr/local/lib/python3.10/dist-packages (from wordcloud==1.8.2.2) (1.22.4)\n",
            "Requirement already satisfied: pillow in /usr/local/lib/python3.10/dist-packages (from wordcloud==1.8.2.2) (8.4.0)\n",
            "Requirement already satisfied: matplotlib in /usr/local/lib/python3.10/dist-packages (from wordcloud==1.8.2.2) (3.7.1)\n",
            "Requirement already satisfied: contourpy>=1.0.1 in /usr/local/lib/python3.10/dist-packages (from matplotlib->wordcloud==1.8.2.2) (1.0.7)\n",
            "Requirement already satisfied: cycler>=0.10 in /usr/local/lib/python3.10/dist-packages (from matplotlib->wordcloud==1.8.2.2) (0.11.0)\n",
            "Requirement already satisfied: fonttools>=4.22.0 in /usr/local/lib/python3.10/dist-packages (from matplotlib->wordcloud==1.8.2.2) (4.39.3)\n",
            "Requirement already satisfied: kiwisolver>=1.0.1 in /usr/local/lib/python3.10/dist-packages (from matplotlib->wordcloud==1.8.2.2) (1.4.4)\n",
            "Requirement already satisfied: packaging>=20.0 in /usr/local/lib/python3.10/dist-packages (from matplotlib->wordcloud==1.8.2.2) (23.1)\n",
            "Requirement already satisfied: pyparsing>=2.3.1 in /usr/local/lib/python3.10/dist-packages (from matplotlib->wordcloud==1.8.2.2) (3.0.9)\n",
            "Requirement already satisfied: python-dateutil>=2.7 in /usr/local/lib/python3.10/dist-packages (from matplotlib->wordcloud==1.8.2.2) (2.8.2)\n",
            "Requirement already satisfied: six>=1.5 in /usr/local/lib/python3.10/dist-packages (from python-dateutil>=2.7->matplotlib->wordcloud==1.8.2.2) (1.16.0)\n",
            "\u001b[33mWARNING: Running pip as the 'root' user can result in broken permissions and conflicting behaviour with the system package manager. It is recommended to use a virtual environment instead: https://pip.pypa.io/warnings/venv\u001b[0m\u001b[33m\n",
            "\u001b[0mLooking in indexes: https://pypi.org/simple, https://us-python.pkg.dev/colab-wheels/public/simple/\n",
            "Requirement already satisfied: spacy in /usr/local/lib/python3.10/dist-packages (3.5.2)\n",
            "Requirement already satisfied: spacy-legacy<3.1.0,>=3.0.11 in /usr/local/lib/python3.10/dist-packages (from spacy) (3.0.12)\n",
            "Requirement already satisfied: spacy-loggers<2.0.0,>=1.0.0 in /usr/local/lib/python3.10/dist-packages (from spacy) (1.0.4)\n",
            "Requirement already satisfied: murmurhash<1.1.0,>=0.28.0 in /usr/local/lib/python3.10/dist-packages (from spacy) (1.0.9)\n",
            "Requirement already satisfied: cymem<2.1.0,>=2.0.2 in /usr/local/lib/python3.10/dist-packages (from spacy) (2.0.7)\n",
            "Requirement already satisfied: preshed<3.1.0,>=3.0.2 in /usr/local/lib/python3.10/dist-packages (from spacy) (3.0.8)\n",
            "Requirement already satisfied: thinc<8.2.0,>=8.1.8 in /usr/local/lib/python3.10/dist-packages (from spacy) (8.1.9)\n",
            "Requirement already satisfied: wasabi<1.2.0,>=0.9.1 in /usr/local/lib/python3.10/dist-packages (from spacy) (1.1.1)\n",
            "Requirement already satisfied: srsly<3.0.0,>=2.4.3 in /usr/local/lib/python3.10/dist-packages (from spacy) (2.4.6)\n",
            "Requirement already satisfied: catalogue<2.1.0,>=2.0.6 in /usr/local/lib/python3.10/dist-packages (from spacy) (2.0.8)\n",
            "Requirement already satisfied: typer<0.8.0,>=0.3.0 in /usr/local/lib/python3.10/dist-packages (from spacy) (0.7.0)\n",
            "Requirement already satisfied: pathy>=0.10.0 in /usr/local/lib/python3.10/dist-packages (from spacy) (0.10.1)\n",
            "Requirement already satisfied: smart-open<7.0.0,>=5.2.1 in /usr/local/lib/python3.10/dist-packages (from spacy) (6.3.0)\n",
            "Requirement already satisfied: tqdm<5.0.0,>=4.38.0 in /usr/local/lib/python3.10/dist-packages (from spacy) (4.65.0)\n",
            "Requirement already satisfied: numpy>=1.15.0 in /usr/local/lib/python3.10/dist-packages (from spacy) (1.22.4)\n",
            "Requirement already satisfied: requests<3.0.0,>=2.13.0 in /usr/local/lib/python3.10/dist-packages (from spacy) (2.27.1)\n",
            "Requirement already satisfied: pydantic!=1.8,!=1.8.1,<1.11.0,>=1.7.4 in /usr/local/lib/python3.10/dist-packages (from spacy) (1.10.7)\n",
            "Requirement already satisfied: jinja2 in /usr/local/lib/python3.10/dist-packages (from spacy) (3.1.2)\n",
            "Requirement already satisfied: setuptools in /usr/local/lib/python3.10/dist-packages (from spacy) (67.7.2)\n",
            "Requirement already satisfied: packaging>=20.0 in /usr/local/lib/python3.10/dist-packages (from spacy) (23.1)\n",
            "Requirement already satisfied: langcodes<4.0.0,>=3.2.0 in /usr/local/lib/python3.10/dist-packages (from spacy) (3.3.0)\n",
            "Requirement already satisfied: typing-extensions>=4.2.0 in /usr/local/lib/python3.10/dist-packages (from pydantic!=1.8,!=1.8.1,<1.11.0,>=1.7.4->spacy) (4.5.0)\n",
            "Requirement already satisfied: urllib3<1.27,>=1.21.1 in /usr/local/lib/python3.10/dist-packages (from requests<3.0.0,>=2.13.0->spacy) (1.26.15)\n",
            "Requirement already satisfied: certifi>=2017.4.17 in /usr/local/lib/python3.10/dist-packages (from requests<3.0.0,>=2.13.0->spacy) (2022.12.7)\n",
            "Requirement already satisfied: charset-normalizer~=2.0.0 in /usr/local/lib/python3.10/dist-packages (from requests<3.0.0,>=2.13.0->spacy) (2.0.12)\n",
            "Requirement already satisfied: idna<4,>=2.5 in /usr/local/lib/python3.10/dist-packages (from requests<3.0.0,>=2.13.0->spacy) (3.4)\n",
            "Requirement already satisfied: blis<0.8.0,>=0.7.8 in /usr/local/lib/python3.10/dist-packages (from thinc<8.2.0,>=8.1.8->spacy) (0.7.9)\n",
            "Requirement already satisfied: confection<1.0.0,>=0.0.1 in /usr/local/lib/python3.10/dist-packages (from thinc<8.2.0,>=8.1.8->spacy) (0.0.4)\n",
            "Requirement already satisfied: click<9.0.0,>=7.1.1 in /usr/local/lib/python3.10/dist-packages (from typer<0.8.0,>=0.3.0->spacy) (8.1.3)\n",
            "Requirement already satisfied: MarkupSafe>=2.0 in /usr/local/lib/python3.10/dist-packages (from jinja2->spacy) (2.1.2)\n",
            "\u001b[33mWARNING: Running pip as the 'root' user can result in broken permissions and conflicting behaviour with the system package manager. It is recommended to use a virtual environment instead: https://pip.pypa.io/warnings/venv\u001b[0m\u001b[33m\n",
            "\u001b[0mLooking in indexes: https://pypi.org/simple, https://us-python.pkg.dev/colab-wheels/public/simple/\n",
            "Requirement already satisfied: nltk in /usr/local/lib/python3.10/dist-packages (3.8.1)\n",
            "Requirement already satisfied: click in /usr/local/lib/python3.10/dist-packages (from nltk) (8.1.3)\n",
            "Requirement already satisfied: joblib in /usr/local/lib/python3.10/dist-packages (from nltk) (1.2.0)\n",
            "Requirement already satisfied: regex>=2021.8.3 in /usr/local/lib/python3.10/dist-packages (from nltk) (2022.10.31)\n",
            "Requirement already satisfied: tqdm in /usr/local/lib/python3.10/dist-packages (from nltk) (4.65.0)\n",
            "\u001b[33mWARNING: Running pip as the 'root' user can result in broken permissions and conflicting behaviour with the system package manager. It is recommended to use a virtual environment instead: https://pip.pypa.io/warnings/venv\u001b[0m\u001b[33m\n",
            "\u001b[0m2023-04-30 16:33:59.341471: I tensorflow/core/platform/cpu_feature_guard.cc:182] This TensorFlow binary is optimized to use available CPU instructions in performance-critical operations.\n",
            "To enable the following instructions: AVX2 FMA, in other operations, rebuild TensorFlow with the appropriate compiler flags.\n",
            "2023-04-30 16:34:01.962843: W tensorflow/compiler/tf2tensorrt/utils/py_utils.cc:38] TF-TRT Warning: Could not find TensorRT\n",
            "Looking in indexes: https://pypi.org/simple, https://us-python.pkg.dev/colab-wheels/public/simple/\n",
            "Collecting en-core-web-lg==3.5.0\n",
            "  Downloading https://github.com/explosion/spacy-models/releases/download/en_core_web_lg-3.5.0/en_core_web_lg-3.5.0-py3-none-any.whl (587.7 MB)\n",
            "\u001b[2K     \u001b[90m━━━━━━━━━━━━━━━━━━━━━━━━━━━━━━━━━━━━━━━\u001b[0m \u001b[32m587.7/587.7 MB\u001b[0m \u001b[31m2.3 MB/s\u001b[0m eta \u001b[36m0:00:00\u001b[0m\n",
            "\u001b[?25hRequirement already satisfied: spacy<3.6.0,>=3.5.0 in /usr/local/lib/python3.10/dist-packages (from en-core-web-lg==3.5.0) (3.5.2)\n",
            "Requirement already satisfied: spacy-legacy<3.1.0,>=3.0.11 in /usr/local/lib/python3.10/dist-packages (from spacy<3.6.0,>=3.5.0->en-core-web-lg==3.5.0) (3.0.12)\n",
            "Requirement already satisfied: spacy-loggers<2.0.0,>=1.0.0 in /usr/local/lib/python3.10/dist-packages (from spacy<3.6.0,>=3.5.0->en-core-web-lg==3.5.0) (1.0.4)\n",
            "Requirement already satisfied: murmurhash<1.1.0,>=0.28.0 in /usr/local/lib/python3.10/dist-packages (from spacy<3.6.0,>=3.5.0->en-core-web-lg==3.5.0) (1.0.9)\n",
            "Requirement already satisfied: cymem<2.1.0,>=2.0.2 in /usr/local/lib/python3.10/dist-packages (from spacy<3.6.0,>=3.5.0->en-core-web-lg==3.5.0) (2.0.7)\n",
            "Requirement already satisfied: preshed<3.1.0,>=3.0.2 in /usr/local/lib/python3.10/dist-packages (from spacy<3.6.0,>=3.5.0->en-core-web-lg==3.5.0) (3.0.8)\n",
            "Requirement already satisfied: thinc<8.2.0,>=8.1.8 in /usr/local/lib/python3.10/dist-packages (from spacy<3.6.0,>=3.5.0->en-core-web-lg==3.5.0) (8.1.9)\n",
            "Requirement already satisfied: wasabi<1.2.0,>=0.9.1 in /usr/local/lib/python3.10/dist-packages (from spacy<3.6.0,>=3.5.0->en-core-web-lg==3.5.0) (1.1.1)\n",
            "Requirement already satisfied: srsly<3.0.0,>=2.4.3 in /usr/local/lib/python3.10/dist-packages (from spacy<3.6.0,>=3.5.0->en-core-web-lg==3.5.0) (2.4.6)\n",
            "Requirement already satisfied: catalogue<2.1.0,>=2.0.6 in /usr/local/lib/python3.10/dist-packages (from spacy<3.6.0,>=3.5.0->en-core-web-lg==3.5.0) (2.0.8)\n",
            "Requirement already satisfied: typer<0.8.0,>=0.3.0 in /usr/local/lib/python3.10/dist-packages (from spacy<3.6.0,>=3.5.0->en-core-web-lg==3.5.0) (0.7.0)\n",
            "Requirement already satisfied: pathy>=0.10.0 in /usr/local/lib/python3.10/dist-packages (from spacy<3.6.0,>=3.5.0->en-core-web-lg==3.5.0) (0.10.1)\n",
            "Requirement already satisfied: smart-open<7.0.0,>=5.2.1 in /usr/local/lib/python3.10/dist-packages (from spacy<3.6.0,>=3.5.0->en-core-web-lg==3.5.0) (6.3.0)\n",
            "Requirement already satisfied: tqdm<5.0.0,>=4.38.0 in /usr/local/lib/python3.10/dist-packages (from spacy<3.6.0,>=3.5.0->en-core-web-lg==3.5.0) (4.65.0)\n",
            "Requirement already satisfied: numpy>=1.15.0 in /usr/local/lib/python3.10/dist-packages (from spacy<3.6.0,>=3.5.0->en-core-web-lg==3.5.0) (1.22.4)\n",
            "Requirement already satisfied: requests<3.0.0,>=2.13.0 in /usr/local/lib/python3.10/dist-packages (from spacy<3.6.0,>=3.5.0->en-core-web-lg==3.5.0) (2.27.1)\n",
            "Requirement already satisfied: pydantic!=1.8,!=1.8.1,<1.11.0,>=1.7.4 in /usr/local/lib/python3.10/dist-packages (from spacy<3.6.0,>=3.5.0->en-core-web-lg==3.5.0) (1.10.7)\n",
            "Requirement already satisfied: jinja2 in /usr/local/lib/python3.10/dist-packages (from spacy<3.6.0,>=3.5.0->en-core-web-lg==3.5.0) (3.1.2)\n",
            "Requirement already satisfied: setuptools in /usr/local/lib/python3.10/dist-packages (from spacy<3.6.0,>=3.5.0->en-core-web-lg==3.5.0) (67.7.2)\n",
            "Requirement already satisfied: packaging>=20.0 in /usr/local/lib/python3.10/dist-packages (from spacy<3.6.0,>=3.5.0->en-core-web-lg==3.5.0) (23.1)\n",
            "Requirement already satisfied: langcodes<4.0.0,>=3.2.0 in /usr/local/lib/python3.10/dist-packages (from spacy<3.6.0,>=3.5.0->en-core-web-lg==3.5.0) (3.3.0)\n",
            "Requirement already satisfied: typing-extensions>=4.2.0 in /usr/local/lib/python3.10/dist-packages (from pydantic!=1.8,!=1.8.1,<1.11.0,>=1.7.4->spacy<3.6.0,>=3.5.0->en-core-web-lg==3.5.0) (4.5.0)\n",
            "Requirement already satisfied: urllib3<1.27,>=1.21.1 in /usr/local/lib/python3.10/dist-packages (from requests<3.0.0,>=2.13.0->spacy<3.6.0,>=3.5.0->en-core-web-lg==3.5.0) (1.26.15)\n",
            "Requirement already satisfied: certifi>=2017.4.17 in /usr/local/lib/python3.10/dist-packages (from requests<3.0.0,>=2.13.0->spacy<3.6.0,>=3.5.0->en-core-web-lg==3.5.0) (2022.12.7)\n",
            "Requirement already satisfied: charset-normalizer~=2.0.0 in /usr/local/lib/python3.10/dist-packages (from requests<3.0.0,>=2.13.0->spacy<3.6.0,>=3.5.0->en-core-web-lg==3.5.0) (2.0.12)\n",
            "Requirement already satisfied: idna<4,>=2.5 in /usr/local/lib/python3.10/dist-packages (from requests<3.0.0,>=2.13.0->spacy<3.6.0,>=3.5.0->en-core-web-lg==3.5.0) (3.4)\n",
            "Requirement already satisfied: blis<0.8.0,>=0.7.8 in /usr/local/lib/python3.10/dist-packages (from thinc<8.2.0,>=8.1.8->spacy<3.6.0,>=3.5.0->en-core-web-lg==3.5.0) (0.7.9)\n",
            "Requirement already satisfied: confection<1.0.0,>=0.0.1 in /usr/local/lib/python3.10/dist-packages (from thinc<8.2.0,>=8.1.8->spacy<3.6.0,>=3.5.0->en-core-web-lg==3.5.0) (0.0.4)\n",
            "Requirement already satisfied: click<9.0.0,>=7.1.1 in /usr/local/lib/python3.10/dist-packages (from typer<0.8.0,>=0.3.0->spacy<3.6.0,>=3.5.0->en-core-web-lg==3.5.0) (8.1.3)\n",
            "Requirement already satisfied: MarkupSafe>=2.0 in /usr/local/lib/python3.10/dist-packages (from jinja2->spacy<3.6.0,>=3.5.0->en-core-web-lg==3.5.0) (2.1.2)\n",
            "Installing collected packages: en-core-web-lg\n",
            "Successfully installed en-core-web-lg-3.5.0\n",
            "\u001b[33mWARNING: Running pip as the 'root' user can result in broken permissions and conflicting behaviour with the system package manager. It is recommended to use a virtual environment instead: https://pip.pypa.io/warnings/venv\u001b[0m\u001b[33m\n",
            "\u001b[0m\u001b[38;5;2m✔ Download and installation successful\u001b[0m\n",
            "You can now load the package via spacy.load('en_core_web_lg')\n",
            "2023-04-30 16:34:42.369802: I tensorflow/core/platform/cpu_feature_guard.cc:182] This TensorFlow binary is optimized to use available CPU instructions in performance-critical operations.\n",
            "To enable the following instructions: AVX2 FMA, in other operations, rebuild TensorFlow with the appropriate compiler flags.\n",
            "2023-04-30 16:34:44.215890: W tensorflow/compiler/tf2tensorrt/utils/py_utils.cc:38] TF-TRT Warning: Could not find TensorRT\n",
            "Looking in indexes: https://pypi.org/simple, https://us-python.pkg.dev/colab-wheels/public/simple/\n",
            "Collecting en-core-web-sm==3.5.0\n",
            "  Downloading https://github.com/explosion/spacy-models/releases/download/en_core_web_sm-3.5.0/en_core_web_sm-3.5.0-py3-none-any.whl (12.8 MB)\n",
            "\u001b[2K     \u001b[90m━━━━━━━━━━━━━━━━━━━━━━━━━━━━━━━━━━━━━━━━\u001b[0m \u001b[32m12.8/12.8 MB\u001b[0m \u001b[31m30.7 MB/s\u001b[0m eta \u001b[36m0:00:00\u001b[0m\n",
            "\u001b[?25hRequirement already satisfied: spacy<3.6.0,>=3.5.0 in /usr/local/lib/python3.10/dist-packages (from en-core-web-sm==3.5.0) (3.5.2)\n",
            "Requirement already satisfied: spacy-legacy<3.1.0,>=3.0.11 in /usr/local/lib/python3.10/dist-packages (from spacy<3.6.0,>=3.5.0->en-core-web-sm==3.5.0) (3.0.12)\n",
            "Requirement already satisfied: spacy-loggers<2.0.0,>=1.0.0 in /usr/local/lib/python3.10/dist-packages (from spacy<3.6.0,>=3.5.0->en-core-web-sm==3.5.0) (1.0.4)\n",
            "Requirement already satisfied: murmurhash<1.1.0,>=0.28.0 in /usr/local/lib/python3.10/dist-packages (from spacy<3.6.0,>=3.5.0->en-core-web-sm==3.5.0) (1.0.9)\n",
            "Requirement already satisfied: cymem<2.1.0,>=2.0.2 in /usr/local/lib/python3.10/dist-packages (from spacy<3.6.0,>=3.5.0->en-core-web-sm==3.5.0) (2.0.7)\n",
            "Requirement already satisfied: preshed<3.1.0,>=3.0.2 in /usr/local/lib/python3.10/dist-packages (from spacy<3.6.0,>=3.5.0->en-core-web-sm==3.5.0) (3.0.8)\n",
            "Requirement already satisfied: thinc<8.2.0,>=8.1.8 in /usr/local/lib/python3.10/dist-packages (from spacy<3.6.0,>=3.5.0->en-core-web-sm==3.5.0) (8.1.9)\n",
            "Requirement already satisfied: wasabi<1.2.0,>=0.9.1 in /usr/local/lib/python3.10/dist-packages (from spacy<3.6.0,>=3.5.0->en-core-web-sm==3.5.0) (1.1.1)\n",
            "Requirement already satisfied: srsly<3.0.0,>=2.4.3 in /usr/local/lib/python3.10/dist-packages (from spacy<3.6.0,>=3.5.0->en-core-web-sm==3.5.0) (2.4.6)\n",
            "Requirement already satisfied: catalogue<2.1.0,>=2.0.6 in /usr/local/lib/python3.10/dist-packages (from spacy<3.6.0,>=3.5.0->en-core-web-sm==3.5.0) (2.0.8)\n",
            "Requirement already satisfied: typer<0.8.0,>=0.3.0 in /usr/local/lib/python3.10/dist-packages (from spacy<3.6.0,>=3.5.0->en-core-web-sm==3.5.0) (0.7.0)\n",
            "Requirement already satisfied: pathy>=0.10.0 in /usr/local/lib/python3.10/dist-packages (from spacy<3.6.0,>=3.5.0->en-core-web-sm==3.5.0) (0.10.1)\n",
            "Requirement already satisfied: smart-open<7.0.0,>=5.2.1 in /usr/local/lib/python3.10/dist-packages (from spacy<3.6.0,>=3.5.0->en-core-web-sm==3.5.0) (6.3.0)\n",
            "Requirement already satisfied: tqdm<5.0.0,>=4.38.0 in /usr/local/lib/python3.10/dist-packages (from spacy<3.6.0,>=3.5.0->en-core-web-sm==3.5.0) (4.65.0)\n",
            "Requirement already satisfied: numpy>=1.15.0 in /usr/local/lib/python3.10/dist-packages (from spacy<3.6.0,>=3.5.0->en-core-web-sm==3.5.0) (1.22.4)\n",
            "Requirement already satisfied: requests<3.0.0,>=2.13.0 in /usr/local/lib/python3.10/dist-packages (from spacy<3.6.0,>=3.5.0->en-core-web-sm==3.5.0) (2.27.1)\n",
            "Requirement already satisfied: pydantic!=1.8,!=1.8.1,<1.11.0,>=1.7.4 in /usr/local/lib/python3.10/dist-packages (from spacy<3.6.0,>=3.5.0->en-core-web-sm==3.5.0) (1.10.7)\n",
            "Requirement already satisfied: jinja2 in /usr/local/lib/python3.10/dist-packages (from spacy<3.6.0,>=3.5.0->en-core-web-sm==3.5.0) (3.1.2)\n",
            "Requirement already satisfied: setuptools in /usr/local/lib/python3.10/dist-packages (from spacy<3.6.0,>=3.5.0->en-core-web-sm==3.5.0) (67.7.2)\n",
            "Requirement already satisfied: packaging>=20.0 in /usr/local/lib/python3.10/dist-packages (from spacy<3.6.0,>=3.5.0->en-core-web-sm==3.5.0) (23.1)\n",
            "Requirement already satisfied: langcodes<4.0.0,>=3.2.0 in /usr/local/lib/python3.10/dist-packages (from spacy<3.6.0,>=3.5.0->en-core-web-sm==3.5.0) (3.3.0)\n",
            "Requirement already satisfied: typing-extensions>=4.2.0 in /usr/local/lib/python3.10/dist-packages (from pydantic!=1.8,!=1.8.1,<1.11.0,>=1.7.4->spacy<3.6.0,>=3.5.0->en-core-web-sm==3.5.0) (4.5.0)\n",
            "Requirement already satisfied: urllib3<1.27,>=1.21.1 in /usr/local/lib/python3.10/dist-packages (from requests<3.0.0,>=2.13.0->spacy<3.6.0,>=3.5.0->en-core-web-sm==3.5.0) (1.26.15)\n",
            "Requirement already satisfied: certifi>=2017.4.17 in /usr/local/lib/python3.10/dist-packages (from requests<3.0.0,>=2.13.0->spacy<3.6.0,>=3.5.0->en-core-web-sm==3.5.0) (2022.12.7)\n",
            "Requirement already satisfied: charset-normalizer~=2.0.0 in /usr/local/lib/python3.10/dist-packages (from requests<3.0.0,>=2.13.0->spacy<3.6.0,>=3.5.0->en-core-web-sm==3.5.0) (2.0.12)\n",
            "Requirement already satisfied: idna<4,>=2.5 in /usr/local/lib/python3.10/dist-packages (from requests<3.0.0,>=2.13.0->spacy<3.6.0,>=3.5.0->en-core-web-sm==3.5.0) (3.4)\n",
            "Requirement already satisfied: blis<0.8.0,>=0.7.8 in /usr/local/lib/python3.10/dist-packages (from thinc<8.2.0,>=8.1.8->spacy<3.6.0,>=3.5.0->en-core-web-sm==3.5.0) (0.7.9)\n",
            "Requirement already satisfied: confection<1.0.0,>=0.0.1 in /usr/local/lib/python3.10/dist-packages (from thinc<8.2.0,>=8.1.8->spacy<3.6.0,>=3.5.0->en-core-web-sm==3.5.0) (0.0.4)\n",
            "Requirement already satisfied: click<9.0.0,>=7.1.1 in /usr/local/lib/python3.10/dist-packages (from typer<0.8.0,>=0.3.0->spacy<3.6.0,>=3.5.0->en-core-web-sm==3.5.0) (8.1.3)\n",
            "Requirement already satisfied: MarkupSafe>=2.0 in /usr/local/lib/python3.10/dist-packages (from jinja2->spacy<3.6.0,>=3.5.0->en-core-web-sm==3.5.0) (2.1.2)\n",
            "\u001b[33mWARNING: Running pip as the 'root' user can result in broken permissions and conflicting behaviour with the system package manager. It is recommended to use a virtual environment instead: https://pip.pypa.io/warnings/venv\u001b[0m\u001b[33m\n",
            "\u001b[0m\u001b[38;5;2m✔ Download and installation successful\u001b[0m\n",
            "You can now load the package via spacy.load('en_core_web_sm')\n",
            "2023-04-30 16:34:59.271310: I tensorflow/core/platform/cpu_feature_guard.cc:182] This TensorFlow binary is optimized to use available CPU instructions in performance-critical operations.\n",
            "To enable the following instructions: AVX2 FMA, in other operations, rebuild TensorFlow with the appropriate compiler flags.\n",
            "2023-04-30 16:35:00.425543: W tensorflow/compiler/tf2tensorrt/utils/py_utils.cc:38] TF-TRT Warning: Could not find TensorRT\n",
            "Looking in indexes: https://pypi.org/simple, https://us-python.pkg.dev/colab-wheels/public/simple/\n",
            "Collecting fr-core-news-sm==3.5.0\n",
            "  Downloading https://github.com/explosion/spacy-models/releases/download/fr_core_news_sm-3.5.0/fr_core_news_sm-3.5.0-py3-none-any.whl (16.3 MB)\n",
            "\u001b[2K     \u001b[90m━━━━━━━━━━━━━━━━━━━━━━━━━━━━━━━━━━━━━━━━\u001b[0m \u001b[32m16.3/16.3 MB\u001b[0m \u001b[31m47.3 MB/s\u001b[0m eta \u001b[36m0:00:00\u001b[0m\n",
            "\u001b[?25hRequirement already satisfied: spacy<3.6.0,>=3.5.0 in /usr/local/lib/python3.10/dist-packages (from fr-core-news-sm==3.5.0) (3.5.2)\n",
            "Requirement already satisfied: spacy-legacy<3.1.0,>=3.0.11 in /usr/local/lib/python3.10/dist-packages (from spacy<3.6.0,>=3.5.0->fr-core-news-sm==3.5.0) (3.0.12)\n",
            "Requirement already satisfied: spacy-loggers<2.0.0,>=1.0.0 in /usr/local/lib/python3.10/dist-packages (from spacy<3.6.0,>=3.5.0->fr-core-news-sm==3.5.0) (1.0.4)\n",
            "Requirement already satisfied: murmurhash<1.1.0,>=0.28.0 in /usr/local/lib/python3.10/dist-packages (from spacy<3.6.0,>=3.5.0->fr-core-news-sm==3.5.0) (1.0.9)\n",
            "Requirement already satisfied: cymem<2.1.0,>=2.0.2 in /usr/local/lib/python3.10/dist-packages (from spacy<3.6.0,>=3.5.0->fr-core-news-sm==3.5.0) (2.0.7)\n",
            "Requirement already satisfied: preshed<3.1.0,>=3.0.2 in /usr/local/lib/python3.10/dist-packages (from spacy<3.6.0,>=3.5.0->fr-core-news-sm==3.5.0) (3.0.8)\n",
            "Requirement already satisfied: thinc<8.2.0,>=8.1.8 in /usr/local/lib/python3.10/dist-packages (from spacy<3.6.0,>=3.5.0->fr-core-news-sm==3.5.0) (8.1.9)\n",
            "Requirement already satisfied: wasabi<1.2.0,>=0.9.1 in /usr/local/lib/python3.10/dist-packages (from spacy<3.6.0,>=3.5.0->fr-core-news-sm==3.5.0) (1.1.1)\n",
            "Requirement already satisfied: srsly<3.0.0,>=2.4.3 in /usr/local/lib/python3.10/dist-packages (from spacy<3.6.0,>=3.5.0->fr-core-news-sm==3.5.0) (2.4.6)\n",
            "Requirement already satisfied: catalogue<2.1.0,>=2.0.6 in /usr/local/lib/python3.10/dist-packages (from spacy<3.6.0,>=3.5.0->fr-core-news-sm==3.5.0) (2.0.8)\n",
            "Requirement already satisfied: typer<0.8.0,>=0.3.0 in /usr/local/lib/python3.10/dist-packages (from spacy<3.6.0,>=3.5.0->fr-core-news-sm==3.5.0) (0.7.0)\n",
            "Requirement already satisfied: pathy>=0.10.0 in /usr/local/lib/python3.10/dist-packages (from spacy<3.6.0,>=3.5.0->fr-core-news-sm==3.5.0) (0.10.1)\n",
            "Requirement already satisfied: smart-open<7.0.0,>=5.2.1 in /usr/local/lib/python3.10/dist-packages (from spacy<3.6.0,>=3.5.0->fr-core-news-sm==3.5.0) (6.3.0)\n",
            "Requirement already satisfied: tqdm<5.0.0,>=4.38.0 in /usr/local/lib/python3.10/dist-packages (from spacy<3.6.0,>=3.5.0->fr-core-news-sm==3.5.0) (4.65.0)\n",
            "Requirement already satisfied: numpy>=1.15.0 in /usr/local/lib/python3.10/dist-packages (from spacy<3.6.0,>=3.5.0->fr-core-news-sm==3.5.0) (1.22.4)\n",
            "Requirement already satisfied: requests<3.0.0,>=2.13.0 in /usr/local/lib/python3.10/dist-packages (from spacy<3.6.0,>=3.5.0->fr-core-news-sm==3.5.0) (2.27.1)\n",
            "Requirement already satisfied: pydantic!=1.8,!=1.8.1,<1.11.0,>=1.7.4 in /usr/local/lib/python3.10/dist-packages (from spacy<3.6.0,>=3.5.0->fr-core-news-sm==3.5.0) (1.10.7)\n",
            "Requirement already satisfied: jinja2 in /usr/local/lib/python3.10/dist-packages (from spacy<3.6.0,>=3.5.0->fr-core-news-sm==3.5.0) (3.1.2)\n",
            "Requirement already satisfied: setuptools in /usr/local/lib/python3.10/dist-packages (from spacy<3.6.0,>=3.5.0->fr-core-news-sm==3.5.0) (67.7.2)\n",
            "Requirement already satisfied: packaging>=20.0 in /usr/local/lib/python3.10/dist-packages (from spacy<3.6.0,>=3.5.0->fr-core-news-sm==3.5.0) (23.1)\n",
            "Requirement already satisfied: langcodes<4.0.0,>=3.2.0 in /usr/local/lib/python3.10/dist-packages (from spacy<3.6.0,>=3.5.0->fr-core-news-sm==3.5.0) (3.3.0)\n",
            "Requirement already satisfied: typing-extensions>=4.2.0 in /usr/local/lib/python3.10/dist-packages (from pydantic!=1.8,!=1.8.1,<1.11.0,>=1.7.4->spacy<3.6.0,>=3.5.0->fr-core-news-sm==3.5.0) (4.5.0)\n",
            "Requirement already satisfied: urllib3<1.27,>=1.21.1 in /usr/local/lib/python3.10/dist-packages (from requests<3.0.0,>=2.13.0->spacy<3.6.0,>=3.5.0->fr-core-news-sm==3.5.0) (1.26.15)\n",
            "Requirement already satisfied: certifi>=2017.4.17 in /usr/local/lib/python3.10/dist-packages (from requests<3.0.0,>=2.13.0->spacy<3.6.0,>=3.5.0->fr-core-news-sm==3.5.0) (2022.12.7)\n",
            "Requirement already satisfied: charset-normalizer~=2.0.0 in /usr/local/lib/python3.10/dist-packages (from requests<3.0.0,>=2.13.0->spacy<3.6.0,>=3.5.0->fr-core-news-sm==3.5.0) (2.0.12)\n",
            "Requirement already satisfied: idna<4,>=2.5 in /usr/local/lib/python3.10/dist-packages (from requests<3.0.0,>=2.13.0->spacy<3.6.0,>=3.5.0->fr-core-news-sm==3.5.0) (3.4)\n",
            "Requirement already satisfied: blis<0.8.0,>=0.7.8 in /usr/local/lib/python3.10/dist-packages (from thinc<8.2.0,>=8.1.8->spacy<3.6.0,>=3.5.0->fr-core-news-sm==3.5.0) (0.7.9)\n",
            "Requirement already satisfied: confection<1.0.0,>=0.0.1 in /usr/local/lib/python3.10/dist-packages (from thinc<8.2.0,>=8.1.8->spacy<3.6.0,>=3.5.0->fr-core-news-sm==3.5.0) (0.0.4)\n",
            "Requirement already satisfied: click<9.0.0,>=7.1.1 in /usr/local/lib/python3.10/dist-packages (from typer<0.8.0,>=0.3.0->spacy<3.6.0,>=3.5.0->fr-core-news-sm==3.5.0) (8.1.3)\n",
            "Requirement already satisfied: MarkupSafe>=2.0 in /usr/local/lib/python3.10/dist-packages (from jinja2->spacy<3.6.0,>=3.5.0->fr-core-news-sm==3.5.0) (2.1.2)\n",
            "Installing collected packages: fr-core-news-sm\n",
            "Successfully installed fr-core-news-sm-3.5.0\n",
            "\u001b[33mWARNING: Running pip as the 'root' user can result in broken permissions and conflicting behaviour with the system package manager. It is recommended to use a virtual environment instead: https://pip.pypa.io/warnings/venv\u001b[0m\u001b[33m\n",
            "\u001b[0m\u001b[38;5;2m✔ Download and installation successful\u001b[0m\n",
            "You can now load the package via spacy.load('fr_core_news_sm')\n",
            "2023-04-30 16:35:14.084518: I tensorflow/core/platform/cpu_feature_guard.cc:182] This TensorFlow binary is optimized to use available CPU instructions in performance-critical operations.\n",
            "To enable the following instructions: AVX2 FMA, in other operations, rebuild TensorFlow with the appropriate compiler flags.\n",
            "2023-04-30 16:35:15.271161: W tensorflow/compiler/tf2tensorrt/utils/py_utils.cc:38] TF-TRT Warning: Could not find TensorRT\n",
            "Looking in indexes: https://pypi.org/simple, https://us-python.pkg.dev/colab-wheels/public/simple/\n",
            "Collecting es-core-news-sm==3.5.0\n",
            "  Downloading https://github.com/explosion/spacy-models/releases/download/es_core_news_sm-3.5.0/es_core_news_sm-3.5.0-py3-none-any.whl (12.9 MB)\n",
            "\u001b[2K     \u001b[90m━━━━━━━━━━━━━━━━━━━━━━━━━━━━━━━━━━━━━━━━\u001b[0m \u001b[32m12.9/12.9 MB\u001b[0m \u001b[31m28.7 MB/s\u001b[0m eta \u001b[36m0:00:00\u001b[0m\n",
            "\u001b[?25hRequirement already satisfied: spacy<3.6.0,>=3.5.0 in /usr/local/lib/python3.10/dist-packages (from es-core-news-sm==3.5.0) (3.5.2)\n",
            "Requirement already satisfied: spacy-legacy<3.1.0,>=3.0.11 in /usr/local/lib/python3.10/dist-packages (from spacy<3.6.0,>=3.5.0->es-core-news-sm==3.5.0) (3.0.12)\n",
            "Requirement already satisfied: spacy-loggers<2.0.0,>=1.0.0 in /usr/local/lib/python3.10/dist-packages (from spacy<3.6.0,>=3.5.0->es-core-news-sm==3.5.0) (1.0.4)\n",
            "Requirement already satisfied: murmurhash<1.1.0,>=0.28.0 in /usr/local/lib/python3.10/dist-packages (from spacy<3.6.0,>=3.5.0->es-core-news-sm==3.5.0) (1.0.9)\n",
            "Requirement already satisfied: cymem<2.1.0,>=2.0.2 in /usr/local/lib/python3.10/dist-packages (from spacy<3.6.0,>=3.5.0->es-core-news-sm==3.5.0) (2.0.7)\n",
            "Requirement already satisfied: preshed<3.1.0,>=3.0.2 in /usr/local/lib/python3.10/dist-packages (from spacy<3.6.0,>=3.5.0->es-core-news-sm==3.5.0) (3.0.8)\n",
            "Requirement already satisfied: thinc<8.2.0,>=8.1.8 in /usr/local/lib/python3.10/dist-packages (from spacy<3.6.0,>=3.5.0->es-core-news-sm==3.5.0) (8.1.9)\n",
            "Requirement already satisfied: wasabi<1.2.0,>=0.9.1 in /usr/local/lib/python3.10/dist-packages (from spacy<3.6.0,>=3.5.0->es-core-news-sm==3.5.0) (1.1.1)\n",
            "Requirement already satisfied: srsly<3.0.0,>=2.4.3 in /usr/local/lib/python3.10/dist-packages (from spacy<3.6.0,>=3.5.0->es-core-news-sm==3.5.0) (2.4.6)\n",
            "Requirement already satisfied: catalogue<2.1.0,>=2.0.6 in /usr/local/lib/python3.10/dist-packages (from spacy<3.6.0,>=3.5.0->es-core-news-sm==3.5.0) (2.0.8)\n",
            "Requirement already satisfied: typer<0.8.0,>=0.3.0 in /usr/local/lib/python3.10/dist-packages (from spacy<3.6.0,>=3.5.0->es-core-news-sm==3.5.0) (0.7.0)\n",
            "Requirement already satisfied: pathy>=0.10.0 in /usr/local/lib/python3.10/dist-packages (from spacy<3.6.0,>=3.5.0->es-core-news-sm==3.5.0) (0.10.1)\n",
            "Requirement already satisfied: smart-open<7.0.0,>=5.2.1 in /usr/local/lib/python3.10/dist-packages (from spacy<3.6.0,>=3.5.0->es-core-news-sm==3.5.0) (6.3.0)\n",
            "Requirement already satisfied: tqdm<5.0.0,>=4.38.0 in /usr/local/lib/python3.10/dist-packages (from spacy<3.6.0,>=3.5.0->es-core-news-sm==3.5.0) (4.65.0)\n",
            "Requirement already satisfied: numpy>=1.15.0 in /usr/local/lib/python3.10/dist-packages (from spacy<3.6.0,>=3.5.0->es-core-news-sm==3.5.0) (1.22.4)\n",
            "Requirement already satisfied: requests<3.0.0,>=2.13.0 in /usr/local/lib/python3.10/dist-packages (from spacy<3.6.0,>=3.5.0->es-core-news-sm==3.5.0) (2.27.1)\n",
            "Requirement already satisfied: pydantic!=1.8,!=1.8.1,<1.11.0,>=1.7.4 in /usr/local/lib/python3.10/dist-packages (from spacy<3.6.0,>=3.5.0->es-core-news-sm==3.5.0) (1.10.7)\n",
            "Requirement already satisfied: jinja2 in /usr/local/lib/python3.10/dist-packages (from spacy<3.6.0,>=3.5.0->es-core-news-sm==3.5.0) (3.1.2)\n",
            "Requirement already satisfied: setuptools in /usr/local/lib/python3.10/dist-packages (from spacy<3.6.0,>=3.5.0->es-core-news-sm==3.5.0) (67.7.2)\n",
            "Requirement already satisfied: packaging>=20.0 in /usr/local/lib/python3.10/dist-packages (from spacy<3.6.0,>=3.5.0->es-core-news-sm==3.5.0) (23.1)\n",
            "Requirement already satisfied: langcodes<4.0.0,>=3.2.0 in /usr/local/lib/python3.10/dist-packages (from spacy<3.6.0,>=3.5.0->es-core-news-sm==3.5.0) (3.3.0)\n",
            "Requirement already satisfied: typing-extensions>=4.2.0 in /usr/local/lib/python3.10/dist-packages (from pydantic!=1.8,!=1.8.1,<1.11.0,>=1.7.4->spacy<3.6.0,>=3.5.0->es-core-news-sm==3.5.0) (4.5.0)\n",
            "Requirement already satisfied: urllib3<1.27,>=1.21.1 in /usr/local/lib/python3.10/dist-packages (from requests<3.0.0,>=2.13.0->spacy<3.6.0,>=3.5.0->es-core-news-sm==3.5.0) (1.26.15)\n",
            "Requirement already satisfied: certifi>=2017.4.17 in /usr/local/lib/python3.10/dist-packages (from requests<3.0.0,>=2.13.0->spacy<3.6.0,>=3.5.0->es-core-news-sm==3.5.0) (2022.12.7)\n",
            "Requirement already satisfied: charset-normalizer~=2.0.0 in /usr/local/lib/python3.10/dist-packages (from requests<3.0.0,>=2.13.0->spacy<3.6.0,>=3.5.0->es-core-news-sm==3.5.0) (2.0.12)\n",
            "Requirement already satisfied: idna<4,>=2.5 in /usr/local/lib/python3.10/dist-packages (from requests<3.0.0,>=2.13.0->spacy<3.6.0,>=3.5.0->es-core-news-sm==3.5.0) (3.4)\n",
            "Requirement already satisfied: blis<0.8.0,>=0.7.8 in /usr/local/lib/python3.10/dist-packages (from thinc<8.2.0,>=8.1.8->spacy<3.6.0,>=3.5.0->es-core-news-sm==3.5.0) (0.7.9)\n",
            "Requirement already satisfied: confection<1.0.0,>=0.0.1 in /usr/local/lib/python3.10/dist-packages (from thinc<8.2.0,>=8.1.8->spacy<3.6.0,>=3.5.0->es-core-news-sm==3.5.0) (0.0.4)\n",
            "Requirement already satisfied: click<9.0.0,>=7.1.1 in /usr/local/lib/python3.10/dist-packages (from typer<0.8.0,>=0.3.0->spacy<3.6.0,>=3.5.0->es-core-news-sm==3.5.0) (8.1.3)\n",
            "Requirement already satisfied: MarkupSafe>=2.0 in /usr/local/lib/python3.10/dist-packages (from jinja2->spacy<3.6.0,>=3.5.0->es-core-news-sm==3.5.0) (2.1.2)\n",
            "Installing collected packages: es-core-news-sm\n",
            "Successfully installed es-core-news-sm-3.5.0\n",
            "\u001b[33mWARNING: Running pip as the 'root' user can result in broken permissions and conflicting behaviour with the system package manager. It is recommended to use a virtual environment instead: https://pip.pypa.io/warnings/venv\u001b[0m\u001b[33m\n",
            "\u001b[0m\u001b[38;5;2m✔ Download and installation successful\u001b[0m\n",
            "You can now load the package via spacy.load('es_core_news_sm')\n",
            "Looking in indexes: https://pypi.org/simple, https://us-python.pkg.dev/colab-wheels/public/simple/\n",
            "Collecting spacy-language-detection\n",
            "  Downloading spacy_language_detection-0.2.1-py3-none-any.whl (6.5 kB)\n",
            "Requirement already satisfied: spacy>=3.0.0 in /usr/local/lib/python3.10/dist-packages (from spacy-language-detection) (3.5.2)\n",
            "Requirement already satisfied: langdetect==1.0.9 in /usr/local/lib/python3.10/dist-packages (from spacy-language-detection) (1.0.9)\n",
            "Requirement already satisfied: six in /usr/local/lib/python3.10/dist-packages (from langdetect==1.0.9->spacy-language-detection) (1.16.0)\n",
            "Requirement already satisfied: spacy-legacy<3.1.0,>=3.0.11 in /usr/local/lib/python3.10/dist-packages (from spacy>=3.0.0->spacy-language-detection) (3.0.12)\n",
            "Requirement already satisfied: spacy-loggers<2.0.0,>=1.0.0 in /usr/local/lib/python3.10/dist-packages (from spacy>=3.0.0->spacy-language-detection) (1.0.4)\n",
            "Requirement already satisfied: murmurhash<1.1.0,>=0.28.0 in /usr/local/lib/python3.10/dist-packages (from spacy>=3.0.0->spacy-language-detection) (1.0.9)\n",
            "Requirement already satisfied: cymem<2.1.0,>=2.0.2 in /usr/local/lib/python3.10/dist-packages (from spacy>=3.0.0->spacy-language-detection) (2.0.7)\n",
            "Requirement already satisfied: preshed<3.1.0,>=3.0.2 in /usr/local/lib/python3.10/dist-packages (from spacy>=3.0.0->spacy-language-detection) (3.0.8)\n",
            "Requirement already satisfied: thinc<8.2.0,>=8.1.8 in /usr/local/lib/python3.10/dist-packages (from spacy>=3.0.0->spacy-language-detection) (8.1.9)\n",
            "Requirement already satisfied: wasabi<1.2.0,>=0.9.1 in /usr/local/lib/python3.10/dist-packages (from spacy>=3.0.0->spacy-language-detection) (1.1.1)\n",
            "Requirement already satisfied: srsly<3.0.0,>=2.4.3 in /usr/local/lib/python3.10/dist-packages (from spacy>=3.0.0->spacy-language-detection) (2.4.6)\n",
            "Requirement already satisfied: catalogue<2.1.0,>=2.0.6 in /usr/local/lib/python3.10/dist-packages (from spacy>=3.0.0->spacy-language-detection) (2.0.8)\n",
            "Requirement already satisfied: typer<0.8.0,>=0.3.0 in /usr/local/lib/python3.10/dist-packages (from spacy>=3.0.0->spacy-language-detection) (0.7.0)\n",
            "Requirement already satisfied: pathy>=0.10.0 in /usr/local/lib/python3.10/dist-packages (from spacy>=3.0.0->spacy-language-detection) (0.10.1)\n",
            "Requirement already satisfied: smart-open<7.0.0,>=5.2.1 in /usr/local/lib/python3.10/dist-packages (from spacy>=3.0.0->spacy-language-detection) (6.3.0)\n",
            "Requirement already satisfied: tqdm<5.0.0,>=4.38.0 in /usr/local/lib/python3.10/dist-packages (from spacy>=3.0.0->spacy-language-detection) (4.65.0)\n",
            "Requirement already satisfied: numpy>=1.15.0 in /usr/local/lib/python3.10/dist-packages (from spacy>=3.0.0->spacy-language-detection) (1.22.4)\n",
            "Requirement already satisfied: requests<3.0.0,>=2.13.0 in /usr/local/lib/python3.10/dist-packages (from spacy>=3.0.0->spacy-language-detection) (2.27.1)\n",
            "Requirement already satisfied: pydantic!=1.8,!=1.8.1,<1.11.0,>=1.7.4 in /usr/local/lib/python3.10/dist-packages (from spacy>=3.0.0->spacy-language-detection) (1.10.7)\n",
            "Requirement already satisfied: jinja2 in /usr/local/lib/python3.10/dist-packages (from spacy>=3.0.0->spacy-language-detection) (3.1.2)\n",
            "Requirement already satisfied: setuptools in /usr/local/lib/python3.10/dist-packages (from spacy>=3.0.0->spacy-language-detection) (67.7.2)\n",
            "Requirement already satisfied: packaging>=20.0 in /usr/local/lib/python3.10/dist-packages (from spacy>=3.0.0->spacy-language-detection) (23.1)\n",
            "Requirement already satisfied: langcodes<4.0.0,>=3.2.0 in /usr/local/lib/python3.10/dist-packages (from spacy>=3.0.0->spacy-language-detection) (3.3.0)\n",
            "Requirement already satisfied: typing-extensions>=4.2.0 in /usr/local/lib/python3.10/dist-packages (from pydantic!=1.8,!=1.8.1,<1.11.0,>=1.7.4->spacy>=3.0.0->spacy-language-detection) (4.5.0)\n",
            "Requirement already satisfied: urllib3<1.27,>=1.21.1 in /usr/local/lib/python3.10/dist-packages (from requests<3.0.0,>=2.13.0->spacy>=3.0.0->spacy-language-detection) (1.26.15)\n",
            "Requirement already satisfied: certifi>=2017.4.17 in /usr/local/lib/python3.10/dist-packages (from requests<3.0.0,>=2.13.0->spacy>=3.0.0->spacy-language-detection) (2022.12.7)\n",
            "Requirement already satisfied: charset-normalizer~=2.0.0 in /usr/local/lib/python3.10/dist-packages (from requests<3.0.0,>=2.13.0->spacy>=3.0.0->spacy-language-detection) (2.0.12)\n",
            "Requirement already satisfied: idna<4,>=2.5 in /usr/local/lib/python3.10/dist-packages (from requests<3.0.0,>=2.13.0->spacy>=3.0.0->spacy-language-detection) (3.4)\n",
            "Requirement already satisfied: blis<0.8.0,>=0.7.8 in /usr/local/lib/python3.10/dist-packages (from thinc<8.2.0,>=8.1.8->spacy>=3.0.0->spacy-language-detection) (0.7.9)\n",
            "Requirement already satisfied: confection<1.0.0,>=0.0.1 in /usr/local/lib/python3.10/dist-packages (from thinc<8.2.0,>=8.1.8->spacy>=3.0.0->spacy-language-detection) (0.0.4)\n",
            "Requirement already satisfied: click<9.0.0,>=7.1.1 in /usr/local/lib/python3.10/dist-packages (from typer<0.8.0,>=0.3.0->spacy>=3.0.0->spacy-language-detection) (8.1.3)\n",
            "Requirement already satisfied: MarkupSafe>=2.0 in /usr/local/lib/python3.10/dist-packages (from jinja2->spacy>=3.0.0->spacy-language-detection) (2.1.2)\n",
            "Installing collected packages: spacy-language-detection\n",
            "Successfully installed spacy-language-detection-0.2.1\n",
            "\u001b[33mWARNING: Running pip as the 'root' user can result in broken permissions and conflicting behaviour with the system package manager. It is recommended to use a virtual environment instead: https://pip.pypa.io/warnings/venv\u001b[0m\u001b[33m\n",
            "\u001b[0mLooking in indexes: https://pypi.org/simple, https://us-python.pkg.dev/colab-wheels/public/simple/\n",
            "Collecting spacy_langdetect==0.1.1\n",
            "  Downloading spacy_langdetect-0.1.1-py3-none-any.whl (6.1 kB)\n",
            "Collecting langdetect==1.0.7 (from spacy_langdetect==0.1.1)\n",
            "  Downloading langdetect-1.0.7.zip (998 kB)\n",
            "\u001b[2K     \u001b[90m━━━━━━━━━━━━━━━━━━━━━━━━━━━━━━━━━━━━━━\u001b[0m \u001b[32m998.1/998.1 kB\u001b[0m \u001b[31m14.0 MB/s\u001b[0m eta \u001b[36m0:00:00\u001b[0m\n",
            "\u001b[?25h  Preparing metadata (setup.py) ... \u001b[?25l\u001b[?25hdone\n",
            "Requirement already satisfied: pytest in /usr/local/lib/python3.10/dist-packages (from spacy_langdetect==0.1.1) (7.2.2)\n",
            "Requirement already satisfied: six in /usr/local/lib/python3.10/dist-packages (from langdetect==1.0.7->spacy_langdetect==0.1.1) (1.16.0)\n",
            "Requirement already satisfied: attrs>=19.2.0 in /usr/local/lib/python3.10/dist-packages (from pytest->spacy_langdetect==0.1.1) (23.1.0)\n",
            "Requirement already satisfied: iniconfig in /usr/local/lib/python3.10/dist-packages (from pytest->spacy_langdetect==0.1.1) (2.0.0)\n",
            "Requirement already satisfied: packaging in /usr/local/lib/python3.10/dist-packages (from pytest->spacy_langdetect==0.1.1) (23.1)\n",
            "Requirement already satisfied: pluggy<2.0,>=0.12 in /usr/local/lib/python3.10/dist-packages (from pytest->spacy_langdetect==0.1.1) (1.0.0)\n",
            "Requirement already satisfied: exceptiongroup>=1.0.0rc8 in /usr/local/lib/python3.10/dist-packages (from pytest->spacy_langdetect==0.1.1) (1.1.1)\n",
            "Requirement already satisfied: tomli>=1.0.0 in /usr/local/lib/python3.10/dist-packages (from pytest->spacy_langdetect==0.1.1) (2.0.1)\n",
            "Building wheels for collected packages: langdetect\n",
            "  Building wheel for langdetect (setup.py) ... \u001b[?25l\u001b[?25hdone\n",
            "  Created wheel for langdetect: filename=langdetect-1.0.7-py3-none-any.whl size=993431 sha256=39d9f4b6ec27c45743d9873f3bb4f8ee7226e67c231eda103c757b3d5803a3b8\n",
            "  Stored in directory: /root/.cache/pip/wheels/97/f1/e4/8b73f7a0421b132755956892d29b1e764d3e0857a6e92e32fe\n",
            "Successfully built langdetect\n",
            "Installing collected packages: langdetect, spacy_langdetect\n",
            "  Attempting uninstall: langdetect\n",
            "    Found existing installation: langdetect 1.0.9\n",
            "    Uninstalling langdetect-1.0.9:\n",
            "      Successfully uninstalled langdetect-1.0.9\n",
            "\u001b[31mERROR: pip's dependency resolver does not currently take into account all the packages that are installed. This behaviour is the source of the following dependency conflicts.\n",
            "spacy-language-detection 0.2.1 requires langdetect==1.0.9, but you have langdetect 1.0.7 which is incompatible.\u001b[0m\u001b[31m\n",
            "\u001b[0mSuccessfully installed langdetect-1.0.7 spacy_langdetect-0.1.1\n",
            "\u001b[33mWARNING: Running pip as the 'root' user can result in broken permissions and conflicting behaviour with the system package manager. It is recommended to use a virtual environment instead: https://pip.pypa.io/warnings/venv\u001b[0m\u001b[33m\n",
            "\u001b[0m2023-04-30 16:35:41.189164: I tensorflow/core/platform/cpu_feature_guard.cc:182] This TensorFlow binary is optimized to use available CPU instructions in performance-critical operations.\n",
            "To enable the following instructions: AVX2 FMA, in other operations, rebuild TensorFlow with the appropriate compiler flags.\n",
            "2023-04-30 16:35:42.349878: W tensorflow/compiler/tf2tensorrt/utils/py_utils.cc:38] TF-TRT Warning: Could not find TensorRT\n",
            "Looking in indexes: https://pypi.org/simple, https://us-python.pkg.dev/colab-wheels/public/simple/\n",
            "Collecting fr-core-news-md==3.5.0\n",
            "  Downloading https://github.com/explosion/spacy-models/releases/download/fr_core_news_md-3.5.0/fr_core_news_md-3.5.0-py3-none-any.whl (45.8 MB)\n",
            "\u001b[2K     \u001b[90m━━━━━━━━━━━━━━━━━━━━━━━━━━━━━━━━━━━━━━━━\u001b[0m \u001b[32m45.8/45.8 MB\u001b[0m \u001b[31m16.0 MB/s\u001b[0m eta \u001b[36m0:00:00\u001b[0m\n",
            "\u001b[?25hRequirement already satisfied: spacy<3.6.0,>=3.5.0 in /usr/local/lib/python3.10/dist-packages (from fr-core-news-md==3.5.0) (3.5.2)\n",
            "Requirement already satisfied: spacy-legacy<3.1.0,>=3.0.11 in /usr/local/lib/python3.10/dist-packages (from spacy<3.6.0,>=3.5.0->fr-core-news-md==3.5.0) (3.0.12)\n",
            "Requirement already satisfied: spacy-loggers<2.0.0,>=1.0.0 in /usr/local/lib/python3.10/dist-packages (from spacy<3.6.0,>=3.5.0->fr-core-news-md==3.5.0) (1.0.4)\n",
            "Requirement already satisfied: murmurhash<1.1.0,>=0.28.0 in /usr/local/lib/python3.10/dist-packages (from spacy<3.6.0,>=3.5.0->fr-core-news-md==3.5.0) (1.0.9)\n",
            "Requirement already satisfied: cymem<2.1.0,>=2.0.2 in /usr/local/lib/python3.10/dist-packages (from spacy<3.6.0,>=3.5.0->fr-core-news-md==3.5.0) (2.0.7)\n",
            "Requirement already satisfied: preshed<3.1.0,>=3.0.2 in /usr/local/lib/python3.10/dist-packages (from spacy<3.6.0,>=3.5.0->fr-core-news-md==3.5.0) (3.0.8)\n",
            "Requirement already satisfied: thinc<8.2.0,>=8.1.8 in /usr/local/lib/python3.10/dist-packages (from spacy<3.6.0,>=3.5.0->fr-core-news-md==3.5.0) (8.1.9)\n",
            "Requirement already satisfied: wasabi<1.2.0,>=0.9.1 in /usr/local/lib/python3.10/dist-packages (from spacy<3.6.0,>=3.5.0->fr-core-news-md==3.5.0) (1.1.1)\n",
            "Requirement already satisfied: srsly<3.0.0,>=2.4.3 in /usr/local/lib/python3.10/dist-packages (from spacy<3.6.0,>=3.5.0->fr-core-news-md==3.5.0) (2.4.6)\n",
            "Requirement already satisfied: catalogue<2.1.0,>=2.0.6 in /usr/local/lib/python3.10/dist-packages (from spacy<3.6.0,>=3.5.0->fr-core-news-md==3.5.0) (2.0.8)\n",
            "Requirement already satisfied: typer<0.8.0,>=0.3.0 in /usr/local/lib/python3.10/dist-packages (from spacy<3.6.0,>=3.5.0->fr-core-news-md==3.5.0) (0.7.0)\n",
            "Requirement already satisfied: pathy>=0.10.0 in /usr/local/lib/python3.10/dist-packages (from spacy<3.6.0,>=3.5.0->fr-core-news-md==3.5.0) (0.10.1)\n",
            "Requirement already satisfied: smart-open<7.0.0,>=5.2.1 in /usr/local/lib/python3.10/dist-packages (from spacy<3.6.0,>=3.5.0->fr-core-news-md==3.5.0) (6.3.0)\n",
            "Requirement already satisfied: tqdm<5.0.0,>=4.38.0 in /usr/local/lib/python3.10/dist-packages (from spacy<3.6.0,>=3.5.0->fr-core-news-md==3.5.0) (4.65.0)\n",
            "Requirement already satisfied: numpy>=1.15.0 in /usr/local/lib/python3.10/dist-packages (from spacy<3.6.0,>=3.5.0->fr-core-news-md==3.5.0) (1.22.4)\n",
            "Requirement already satisfied: requests<3.0.0,>=2.13.0 in /usr/local/lib/python3.10/dist-packages (from spacy<3.6.0,>=3.5.0->fr-core-news-md==3.5.0) (2.27.1)\n",
            "Requirement already satisfied: pydantic!=1.8,!=1.8.1,<1.11.0,>=1.7.4 in /usr/local/lib/python3.10/dist-packages (from spacy<3.6.0,>=3.5.0->fr-core-news-md==3.5.0) (1.10.7)\n",
            "Requirement already satisfied: jinja2 in /usr/local/lib/python3.10/dist-packages (from spacy<3.6.0,>=3.5.0->fr-core-news-md==3.5.0) (3.1.2)\n",
            "Requirement already satisfied: setuptools in /usr/local/lib/python3.10/dist-packages (from spacy<3.6.0,>=3.5.0->fr-core-news-md==3.5.0) (67.7.2)\n",
            "Requirement already satisfied: packaging>=20.0 in /usr/local/lib/python3.10/dist-packages (from spacy<3.6.0,>=3.5.0->fr-core-news-md==3.5.0) (23.1)\n",
            "Requirement already satisfied: langcodes<4.0.0,>=3.2.0 in /usr/local/lib/python3.10/dist-packages (from spacy<3.6.0,>=3.5.0->fr-core-news-md==3.5.0) (3.3.0)\n",
            "Requirement already satisfied: typing-extensions>=4.2.0 in /usr/local/lib/python3.10/dist-packages (from pydantic!=1.8,!=1.8.1,<1.11.0,>=1.7.4->spacy<3.6.0,>=3.5.0->fr-core-news-md==3.5.0) (4.5.0)\n",
            "Requirement already satisfied: urllib3<1.27,>=1.21.1 in /usr/local/lib/python3.10/dist-packages (from requests<3.0.0,>=2.13.0->spacy<3.6.0,>=3.5.0->fr-core-news-md==3.5.0) (1.26.15)\n",
            "Requirement already satisfied: certifi>=2017.4.17 in /usr/local/lib/python3.10/dist-packages (from requests<3.0.0,>=2.13.0->spacy<3.6.0,>=3.5.0->fr-core-news-md==3.5.0) (2022.12.7)\n",
            "Requirement already satisfied: charset-normalizer~=2.0.0 in /usr/local/lib/python3.10/dist-packages (from requests<3.0.0,>=2.13.0->spacy<3.6.0,>=3.5.0->fr-core-news-md==3.5.0) (2.0.12)\n",
            "Requirement already satisfied: idna<4,>=2.5 in /usr/local/lib/python3.10/dist-packages (from requests<3.0.0,>=2.13.0->spacy<3.6.0,>=3.5.0->fr-core-news-md==3.5.0) (3.4)\n",
            "Requirement already satisfied: blis<0.8.0,>=0.7.8 in /usr/local/lib/python3.10/dist-packages (from thinc<8.2.0,>=8.1.8->spacy<3.6.0,>=3.5.0->fr-core-news-md==3.5.0) (0.7.9)\n",
            "Requirement already satisfied: confection<1.0.0,>=0.0.1 in /usr/local/lib/python3.10/dist-packages (from thinc<8.2.0,>=8.1.8->spacy<3.6.0,>=3.5.0->fr-core-news-md==3.5.0) (0.0.4)\n",
            "Requirement already satisfied: click<9.0.0,>=7.1.1 in /usr/local/lib/python3.10/dist-packages (from typer<0.8.0,>=0.3.0->spacy<3.6.0,>=3.5.0->fr-core-news-md==3.5.0) (8.1.3)\n",
            "Requirement already satisfied: MarkupSafe>=2.0 in /usr/local/lib/python3.10/dist-packages (from jinja2->spacy<3.6.0,>=3.5.0->fr-core-news-md==3.5.0) (2.1.2)\n",
            "Installing collected packages: fr-core-news-md\n",
            "Successfully installed fr-core-news-md-3.5.0\n",
            "\u001b[33mWARNING: Running pip as the 'root' user can result in broken permissions and conflicting behaviour with the system package manager. It is recommended to use a virtual environment instead: https://pip.pypa.io/warnings/venv\u001b[0m\u001b[33m\n",
            "\u001b[0m\u001b[38;5;2m✔ Download and installation successful\u001b[0m\n",
            "You can now load the package via spacy.load('fr_core_news_md')\n",
            "Looking in indexes: https://pypi.org/simple, https://us-python.pkg.dev/colab-wheels/public/simple/\n",
            "Collecting iso639\n",
            "  Downloading iso639-0.1.4.tar.gz (11 kB)\n",
            "  Preparing metadata (setup.py) ... \u001b[?25l\u001b[?25hdone\n",
            "Building wheels for collected packages: iso639\n",
            "  Building wheel for iso639 (setup.py) ... \u001b[?25l\u001b[?25hdone\n",
            "  Created wheel for iso639: filename=iso639-0.1.4-py3-none-any.whl size=11188 sha256=f4924c1c6a6b84bc27012798068804e2c147a15be422fa44383b0934684b66f7\n",
            "  Stored in directory: /root/.cache/pip/wheels/a5/b9/38/a15d4cd0f6d25de2d8731726b1d6ec9efcd3e04db912dd4e7f\n",
            "Successfully built iso639\n",
            "Installing collected packages: iso639\n",
            "Successfully installed iso639-0.1.4\n",
            "\u001b[33mWARNING: Running pip as the 'root' user can result in broken permissions and conflicting behaviour with the system package manager. It is recommended to use a virtual environment instead: https://pip.pypa.io/warnings/venv\u001b[0m\u001b[33m\n",
            "\u001b[0m"
          ]
        }
      ],
      "source": [
        "# Librairie a installer\n",
        "# \"\"\" Commenter cette ligne pour installer\n",
        "!python -m pip install --upgrade pip\n",
        "!pip install langdetect \n",
        "!pip install contractions\n",
        "!pip install wordcloud==1.8.2.2\n",
        "!pip install spacy\n",
        "!pip install nltk\n",
        "\n",
        "!python -m spacy download en_core_web_lg\n",
        "!python -m spacy download en_core_web_sm\n",
        "!python -m spacy download fr_core_news_sm\n",
        "!python -m spacy download es_core_news_sm\n",
        "!pip install spacy-language-detection\n",
        "!pip install spacy_langdetect==0.1.1\n",
        "!python -m spacy download fr_core_news_md\n",
        "\n",
        "\n",
        "!pip install iso639\n",
        "# \"\"\""
      ]
    },
    {
      "cell_type": "code",
      "execution_count": 3,
      "metadata": {
        "colab": {
          "base_uri": "https://localhost:8080/"
        },
        "id": "F3-6cFyPRPJn",
        "outputId": "560be18b-e2db-45bb-f883-5776aa7eecd1"
      },
      "outputs": [
        {
          "output_type": "stream",
          "name": "stderr",
          "text": [
            "[nltk_data] Downloading package punkt to /root/nltk_data...\n",
            "[nltk_data]   Unzipping tokenizers/punkt.zip.\n",
            "[nltk_data] Downloading package averaged_perceptron_tagger to\n",
            "[nltk_data]     /root/nltk_data...\n",
            "[nltk_data]   Unzipping taggers/averaged_perceptron_tagger.zip.\n",
            "[nltk_data] Downloading package tagsets to /root/nltk_data...\n",
            "[nltk_data]   Unzipping help/tagsets.zip.\n",
            "[nltk_data] Downloading package stopwords to /root/nltk_data...\n",
            "[nltk_data]   Unzipping corpora/stopwords.zip.\n",
            "[nltk_data] Downloading package wordnet to /root/nltk_data...\n",
            "[nltk_data] Downloading package omw-1.4 to /root/nltk_data...\n",
            "[nltk_data] Downloading package stopwords to /root/nltk_data...\n",
            "[nltk_data]   Package stopwords is already up-to-date!\n"
          ]
        }
      ],
      "source": [
        "# Importation des différentes librairies utiles pour le notebook\n",
        "\n",
        "import pandas as pd\n",
        "import numpy as np \n",
        "import seaborn as sns\n",
        "import matplotlib.pyplot as plt\n",
        "import sklearn\n",
        "from sklearn import metrics\n",
        "from sklearn.pipeline import Pipeline\n",
        "from sklearn.base import TransformerMixin\n",
        "from sklearn.feature_extraction.text import CountVectorizer\n",
        "from sklearn.feature_extraction.text import TfidfVectorizer\n",
        "\n",
        "\n",
        "# librairies des classifiers utilisés\n",
        "from sklearn import model_selection\n",
        "from sklearn.model_selection import train_test_split \n",
        "from sklearn.model_selection import KFold\n",
        "from sklearn.model_selection import cross_val_score\n",
        "from sklearn.model_selection import cross_val_predict\n",
        "from sklearn.model_selection import GridSearchCV\n",
        "from sklearn.utils import resample\n",
        "from sklearn.naive_bayes import MultinomialNB\n",
        "from sklearn.naive_bayes import GaussianNB\n",
        "from sklearn.metrics import accuracy_score\n",
        "from sklearn.metrics import recall_score\n",
        "from sklearn.metrics import precision_score\n",
        "from sklearn.metrics import f1_score\n",
        "from sklearn.metrics import confusion_matrix\n",
        "from sklearn.metrics import classification_report\n",
        "from sklearn.metrics import precision_recall_fscore_support\n",
        "from sklearn.linear_model import LogisticRegression\n",
        "from sklearn.tree import DecisionTreeClassifier\n",
        "from sklearn.tree import DecisionTreeRegressor\n",
        "from sklearn.neighbors import KNeighborsClassifier\n",
        "from sklearn.svm import SVC\n",
        "from sklearn.svm import LinearSVC\n",
        "from sklearn.ensemble import RandomForestClassifier\n",
        "from sklearn.preprocessing import StandardScaler\n",
        "\n",
        "import warnings\n",
        "warnings.filterwarnings(\"ignore\", category=FutureWarning)\n",
        "from MyNLPUtilities import *\n",
        "\n",
        "# librairies générales\n",
        "import pickle \n",
        "from scipy.stats import randint\n",
        "import string\n",
        "import time\n",
        "import base64\n",
        "import sys\n",
        "import re\n",
        "import os\n",
        "\n",
        "import contractions\n",
        "\n",
        "# librairie BeautifulSoup\n",
        "from bs4 import BeautifulSoup\n",
        "\n",
        "# librairie affichage\n",
        "import wordcloud\n",
        "\n",
        "## detection de language\n",
        "import langdetect\n",
        "from langdetect import detect\n",
        "\n",
        "import nltk\n",
        "nltk.download('punkt')\n",
        "nltk.download('averaged_perceptron_tagger')\n",
        "nltk.download('tagsets')\n",
        "nltk.download(\"stopwords\")\n",
        "nltk.download('wordnet')\n",
        "nltk.download('omw-1.4')\n",
        "nltk.download(\"stopwords\")\n",
        "from nltk import sent_tokenize\n",
        "from nltk import RegexpParser\n",
        "from nltk import pos_tag\n",
        "from nltk.tokenize import word_tokenize\n",
        "from nltk.stem import WordNetLemmatizer\n",
        "from nltk.stem import PorterStemmer\n",
        "from nltk.corpus import stopwords\n",
        "from nltk.corpus import wordnet as wn\n",
        "\n",
        "import spacy\n",
        "from spacy.tokens import Span\n",
        "from spacy.lang.fr import French\n",
        "from spacy_langdetect import LanguageDetector\n",
        "from spacy.tokens import Doc\n",
        "from spacy.language import Language\n",
        "from spacy_language_detection import LanguageDetector\n",
        "\n",
        "import iso639\n",
        "\n",
        "import en_core_web_sm"
      ]
    },
    {
      "cell_type": "markdown",
      "metadata": {
        "id": "tbboYXAuXJDO"
      },
      "source": [
        "Récupération du dataset et formatage selon la tâche de classification"
      ]
    },
    {
      "cell_type": "code",
      "execution_count": 36,
      "metadata": {
        "colab": {
          "base_uri": "https://localhost:8080/"
        },
        "id": "GiYSy3LaQ9CE",
        "outputId": "29ab8666-28b5-44bd-a439-e1351e2a1484"
      },
      "outputs": [
        {
          "output_type": "stream",
          "name": "stdout",
          "text": [
            "FAUX    578\n",
            "VRAI    211\n",
            "Name: our rating, dtype: int64\n",
            "FAUX    315\n",
            "VRAI    210\n",
            "Name: our rating, dtype: int64\n"
          ]
        }
      ],
      "source": [
        "df_train = pd.read_csv('HAI817_Projet_train.csv')\n",
        "df_test = pd.read_csv('HAI817_Projet_test.csv')\n",
        "\n",
        "# Rennomage des classes pour plus de lisibilité\n",
        "df_train[\"our rating\"] = df_train[\"our rating\"].replace({\"true\": \"VRAI\", \n",
        "                                                    \"false\": \"FAUX\", \n",
        "                                                    \"mixture\": \"MIXTE\", \n",
        "                                                    \"other\": \"AUTRE\"})\n",
        "\n",
        "df_test[\"our rating\"] = df_test[\"our rating\"].replace({\"true\": \"VRAI\", \n",
        "                                                    \"false\": \"FAUX\", \n",
        "                                                    \"mixture\": \"MIXTE\", \n",
        "                                                    \"other\": \"AUTRE\"})\n",
        "\n",
        "def tacheDeClassification(df, num):\n",
        "    if num == 1:\n",
        "        # Sélectionner que les lignes avec \"true\" ou \"false\" dans la colonne \"our rating\"\n",
        "        df = df[(df['our rating'] == \"VRAI\") | (df['our rating'] == \"FAUX\")]\n",
        "    \n",
        "    elif num == 2:\n",
        "        df[\"our rating\"] = df[\"our rating\"].replace({\"VRAI\": \"VRAIouFAUX\", \n",
        "                                                    \"FAUX\": \"VRAIouFAUX\"})\n",
        "\n",
        "        df = df[(df['our rating'] == \"VRAIouFAUX\") | (df['our rating'] == \"AUTRE\")]\n",
        "\n",
        "    return df.reset_index(drop=True)\n",
        "\n",
        "tache = 1\n",
        "# 1 : VRAI vs FAUX\n",
        "# 2 : VRAIouFAUX vs AUTRE\n",
        "# 3 : VRAI vs FAUX vs AUTRE vs MIXTURE\n",
        "dfFakeNews = tacheDeClassification(df_train, tache)\n",
        "dfFakeNewsTest = tacheDeClassification(df_test, tache)\n",
        "\n",
        "print(dfFakeNews['our rating'].value_counts())\n",
        "print(dfFakeNewsTest['our rating'].value_counts())"
      ]
    },
    {
      "cell_type": "markdown",
      "metadata": {
        "id": "8RSlo03dbRS7"
      },
      "source": [
        "# Pré-traitements"
      ]
    },
    {
      "cell_type": "markdown",
      "metadata": {
        "id": "TvRzcKv3ZiuT"
      },
      "source": [
        "### Visualisation des valeurs manquantes"
      ]
    },
    {
      "cell_type": "markdown",
      "metadata": {
        "id": "bVRcZwCZZiuU"
      },
      "source": [
        "On supprime ici les lignes avec au moins une colonne vide pour s'assurer qu'il n'y ai pas de données manquantes"
      ]
    },
    {
      "cell_type": "code",
      "execution_count": 39,
      "metadata": {
        "colab": {
          "base_uri": "https://localhost:8080/",
          "height": 467
        },
        "id": "FP4t5WMJZiuT",
        "outputId": "19ba2e9f-5861-466c-d4e8-338df546d44e"
      },
      "outputs": [
        {
          "output_type": "execute_result",
          "data": {
            "text/plain": [
              "<Axes: >"
            ]
          },
          "metadata": {},
          "execution_count": 39
        },
        {
          "output_type": "display_data",
          "data": {
            "text/plain": [
              "<Figure size 640x480 with 1 Axes>"
            ],
            "image/png": "[encoded data removed]"
          },
          "metadata": {}
        }
      ],
      "source": [
        "dfFakeNews = dfFakeNews.dropna()\n",
        "dfFakeNewsTest = dfFakeNewsTest.dropna()\n",
        "\n",
        "sns.heatmap(dfFakeNews.isnull(), cbar=False)"
      ]
    },
    {
      "cell_type": "markdown",
      "metadata": {
        "id": "1QZL_cCFZiuQ"
      },
      "source": [
        "### Rééquilibrage des classes"
      ]
    },
    {
      "cell_type": "markdown",
      "metadata": {
        "id": "IFIJXhPTZiuR"
      },
      "source": [
        "Fonction de rééquilibrage des classes"
      ]
    },
    {
      "cell_type": "code",
      "execution_count": 40,
      "metadata": {
        "id": "JHkty-LLZiuR"
      },
      "outputs": [],
      "source": [
        "# Ajout de valeurs pour équilibrage\n",
        "def upSampling(df):\n",
        "    # Détection du nombre de classes\n",
        "    classes = df['our rating'].unique()\n",
        "    num_classes = len(classes)\n",
        "\n",
        "    if num_classes < 2:\n",
        "        raise ValueError(\"Le nombre de classes doit être au moins 2\")\n",
        "\n",
        "    # Détermination de la taille de la classe majoritaire\n",
        "    counts = df['our rating'].value_counts().sort_values()\n",
        "    majority_size = counts.iloc[-1]\n",
        "\n",
        "    # Upsampling des classes minoritaires\n",
        "    df_upsampled = []\n",
        "    for c in classes:\n",
        "        if counts[c] == majority_size:\n",
        "            df_c = df[df['our rating'] == c]\n",
        "        else:\n",
        "            df_c = resample(df[df['our rating'] == c], replace=True, n_samples=majority_size, random_state=42)\n",
        "        df_upsampled.append(df_c)\n",
        "\n",
        "    # Concaténation des classes\n",
        "    df_upsampled = pd.concat(df_upsampled)\n",
        "    df_upsampled = df_upsampled.reset_index(drop=True)\n",
        "\n",
        "    return df_upsampled\n",
        "\n",
        "\n",
        "\n",
        "\n",
        "\n",
        "# Suppression de valeurs pour équilibrage\n",
        "# Ajout de valeurs pour équilibrage\n",
        "def downSampling(df):\n",
        "    # Détection du nombre de classes\n",
        "    classes = df['our rating'].unique()\n",
        "    num_classes = len(classes)\n",
        "\n",
        "    if num_classes < 2:\n",
        "        raise ValueError(\"Le nombre de classes doit être au moins 2\")\n",
        "\n",
        "    # Détermination de la taille de la classe minoritaire\n",
        "    counts = df['our rating'].value_counts().sort_values()\n",
        "    minority_size = counts.iloc[0]\n",
        "\n",
        "    # Downsampling des classes majoritaires\n",
        "    df_downsampled = []\n",
        "    for c in classes:\n",
        "        if counts[c] == minority_size:\n",
        "            df_c = df[df['our rating'] == c]\n",
        "        else:\n",
        "            df_c = resample(df[df['our rating'] == c], replace=False, n_samples=minority_size, random_state=42)\n",
        "        df_downsampled.append(df_c)\n",
        "\n",
        "    # Concaténation des classes\n",
        "    df_downsampled = pd.concat(df_downsampled)\n",
        "    df_downsampled = df_downsampled.reset_index(drop=True)\n",
        "\n",
        "    return df_downsampled\n"
      ]
    },
    {
      "cell_type": "markdown",
      "metadata": {
        "id": "K1u2n_uMbuFn"
      },
      "source": [
        "Rééquilibrage des classes"
      ]
    },
    {
      "cell_type": "code",
      "execution_count": 41,
      "metadata": {
        "colab": {
          "base_uri": "https://localhost:8080/"
        },
        "id": "Ofdu_TiFbddG",
        "outputId": "652a1b4d-101c-4c17-8180-7137a41830b6"
      },
      "outputs": [
        {
          "output_type": "stream",
          "name": "stdout",
          "text": [
            "Nombre d'occurrences par classe :\n",
            "FAUX    571\n",
            "VRAI    206\n",
            "Name: our rating, dtype: int64\n",
            "Shape: (777, 4)\n",
            "Après downsampling :\n",
            "FAUX    206\n",
            "VRAI    206\n",
            "Name: our rating, dtype: int64\n"
          ]
        }
      ],
      "source": [
        "# Copie du dataFrame\n",
        "dfPret = dfFakeNews.copy()\n",
        "\n",
        "print (\"Nombre d'occurrences par classe :\")\n",
        "print(dfPret['our rating'].value_counts())\n",
        "print (\"Shape: \" + str(dfPret.shape))\n",
        "\n",
        "# Application du downSampling sur le dataFrame\n",
        "dfPret = downSampling(dfPret)\n",
        "# dfPret = upSampling(dfPret)\n",
        "\n",
        "print (\"Après downsampling :\")\n",
        "print(dfPret['our rating'].value_counts())"
      ]
    },
    {
      "cell_type": "markdown",
      "metadata": {
        "id": "Rt2DbeekZiuS"
      },
      "source": [
        "### Automatisation des pré-traitements"
      ]
    },
    {
      "cell_type": "markdown",
      "metadata": {
        "id": "UWILeAFKZiuS"
      },
      "source": [
        "Définition des fonctions"
      ]
    },
    {
      "cell_type": "code",
      "execution_count": 8,
      "metadata": {
        "id": "Gy_PNsmUZiuS"
      },
      "outputs": [],
      "source": [
        "nlp = spacy.load(\"en_core_web_sm\")\n",
        "\n",
        "# Chargement de la liste de stopwords en anglais\n",
        "the_stopwords = set(stopwords.words(\"english\"))\n",
        "\n",
        "# 0. Supprimer les textes qui se sont pas en anglais \n",
        "# (à appliquer seulement quand on concatène les titres et les textes ensembles)\n",
        "def supp_not_english_words(textes):\n",
        "    tab_langue_textes = []\n",
        "    # Parcours des textes dans le tableau donnée\n",
        "    for txt in textes:\n",
        "        tab_langue_textes.append(langdetect.detect(txt)) # detection de la langue\n",
        "    # Parcours des langues\n",
        "    for i in range(len(tab_langue_textes)):\n",
        "        if tab_langue_textes[i] != 'en': # si la langue n'est pas anglaise\n",
        "            textes.pop(i) # on supprime le texte dans le tableau d'origine\n",
        "    return textes\n",
        "\n",
        "\n",
        "# 1. Generation de wordclouds pour affichage\n",
        "def generate_wordcloud(texts):\n",
        "    for text in texts:\n",
        "        # Detection de la langue\n",
        "        lang = detect(text)\n",
        "\n",
        "        # Affichage des word clouds\n",
        "        wc = wordcloud.WordCloud(\n",
        "            background_color=\"black\", max_words=100, max_font_size=35\n",
        "        )\n",
        "        wc = wc.generate(str(text))\n",
        "        fig = plt.figure(num=1)\n",
        "        # Affichage du graphique\n",
        "        plt.axis(\"off\")\n",
        "        plt.imshow(wc, cmap=None)\n",
        "        plt.title(f\"Langue: {lang}\")\n",
        "        plt.show()\n",
        "\n",
        "\n",
        "# 2. Mettre sous forme de token\n",
        "def tokenize_titles(texts):\n",
        "    word_tokens_list_texts = []\n",
        "    # Parcours des textes\n",
        "    for txt in texts:\n",
        "        # tokenisation de chaque texte\n",
        "        word_tokens = word_tokenize(txt)\n",
        "        word_tokens_list_texts.append(word_tokens)  # ajout à la liste des tokens\n",
        "    return word_tokens_list_texts\n",
        "\n",
        "\n",
        "# 3. Donner la categorie des mots\n",
        "def get_pos_tags(word_tokens_list):\n",
        "    cate_word_tokens = []\n",
        "    # Parcours du tableau de token\n",
        "    for sentence in word_tokens_list:\n",
        "        sentence_str = \" \".join(sentence) # formation de la phrase courante\n",
        "        doc = nlp(sentence_str) # \n",
        "        pos_tags = [\n",
        "            (token.text, token.pos_) # mot + categorie\n",
        "            for token in doc\n",
        "        ] # formation du tableau de chaque mot avec sa catégorie\n",
        "        cate_word_tokens.append(pos_tags) # ajout dans le tableau de tous les textes\n",
        "    return cate_word_tokens\n",
        "\n",
        "\n",
        "# 4. Filtrer les mots en focntion de leurs types selective_pos\n",
        "def filter_by_pos(text, selective_pos):\n",
        "    \"\"\"\n",
        "    - text (list): une liste de phrases où chaque phrase est une liste de mots.\n",
        "    - selective_pos (list): une liste de catégories grammaticales à conserver.\n",
        "            Exemple : ['PROPN', 'NOUN', 'VERB', 'ADJ', 'ADV', 'PRON']\n",
        "    \"\"\"\n",
        "    filter_cate_word_text = []\n",
        "    for phrase in text:\n",
        "        tab_courant = []\n",
        "        for word in phrase:\n",
        "            if word[1] in selective_pos:\n",
        "                tab_courant.append(word)\n",
        "        filter_cate_word_text.append(tab_courant)\n",
        "    return filter_cate_word_text\n",
        "\n",
        "\n",
        "# 5. Suppression des majuscule sur les mots qui ne sont pas des noms propres sauf si on veut tout en minuscule (is_all_min)\n",
        "def lowercase_filter(filter_cate_word_text, lower, is_all_min):\n",
        "    min_filter_cate_text = []\n",
        "    for phrase in filter_cate_word_text:\n",
        "        mots_minuscules = []\n",
        "        for word in phrase:\n",
        "            if lower and (is_all_min or word[1] != \"PROPN\"):\n",
        "                mots_minuscules.append(word[0].lower())  # transformer\n",
        "            else: \n",
        "                mots_minuscules.append(word[0])\n",
        "        min_filter_cate_text.append(mots_minuscules)\n",
        "    return min_filter_cate_text\n",
        "\n",
        "\n",
        "\n",
        "# 6. Supprimer les stop words\n",
        "def remove_stopwords(text):\n",
        "    # Tokenisation des phrases\n",
        "    word_tokens_list = []\n",
        "    for sentence in text:\n",
        "        word_tokens_list.append(word_tokenize(\" \".join(sentence)))\n",
        "    # Suppression des stopwords et join des tokens\n",
        "    final_list_sentence = []\n",
        "    for word_tokens in word_tokens_list:\n",
        "        tokens = [word for word in word_tokens if word not in the_stopwords]\n",
        "        # sentence = \" \".join(tokens)\n",
        "        final_list_sentence.append(tokens)\n",
        "    return final_list_sentence\n",
        "\n",
        "\n",
        "# 7. Lemmatisation des mots\n",
        "def lemmatize_text(text):\n",
        "    lemmatizer = WordNetLemmatizer()\n",
        "    lemmas_final_word_text = []\n",
        "    for phrase in text:\n",
        "        doc_lemme = nlp(\" \".join(phrase))\n",
        "        lemmas_courant = []\n",
        "        for token in doc_lemme:\n",
        "            if token.text.endswith(\"-\"):\n",
        "                continue  # enleve les mots composé avec un tiret\n",
        "            lemmas_courant.append(lemmatizer.lemmatize(token.text))  # ajout a la liste en lematisant le mot\n",
        "        lemmas_final_word_text.append(lemmas_courant)  # ajout a la grande liste\n",
        "    return lemmas_final_word_text\n",
        "    \n",
        "\n",
        "## Tests\n",
        "# tok = tokenize_titles(dfPret[\"title\"])\n",
        "# a = get_pos_tags(tok[:2])\n",
        "# b = filter_by_pos(a, ['PROPN', 'VERB'])\n",
        "# c = lowercase_filter(b, False)\n",
        "# d = remove_stopwords(c)\n",
        "# e = lemmatize_text(d)\n",
        "# print(e)"
      ]
    },
    {
      "cell_type": "markdown",
      "metadata": {
        "id": "LnR-IQwGZiuT"
      },
      "source": [
        "#### Fonction d'automatisation des pré-traitements"
      ]
    },
    {
      "cell_type": "code",
      "execution_count": 9,
      "metadata": {
        "id": "JSTKqnoeZiuT"
      },
      "outputs": [],
      "source": [
        "def preTraitement(\n",
        "    texte,\n",
        "    selective_pos=['PROPN', 'NOUN', 'VERB', 'ADJ', 'ADV', 'PRON'], # catégories grammaticales\n",
        "    filter_category=False,       # filtre les categories de mots qu'on veut\n",
        "    supp_all_maj=False,          # supprimer toutes les majuscules des textes\n",
        "    supp_maj=False,              # supprimer les majuscules sur tous les mots sauf les noms propres\n",
        "    supp_stopwords=False,        # supprimer les stopwords\n",
        "    lemmatisation=False          # mettre les mots sous leur forme de base\n",
        "    ):\n",
        "    \"\"\"\n",
        "    Entrée : liste de liste de mots\n",
        "    Sortie : liste de liste de mots\n",
        "    \"\"\"\n",
        "\n",
        "    # generate_wordcloud(texte)\n",
        "    tab_texte = tokenize_titles(texte)      # met sous forme de token (tableau de mots)\n",
        "\n",
        "    if filter_category:\n",
        "        tab_texte = get_pos_tags(tab_texte) # donne la categorie des mots (LONG)\n",
        "        tab_texte = filter_by_pos(tab_texte, selective_pos) # ne garde que les selective_pos\n",
        "        # suppression des MaJ ici car besoin des catégories des mots\n",
        "        tab_texte = lowercase_filter(tab_texte, supp_maj, supp_all_maj)  # Mise en minuscule\n",
        "\n",
        "    if supp_stopwords:\n",
        "        tab_texte = remove_stopwords(tab_texte)  # supprime les stop-words\n",
        "\n",
        "    if lemmatisation:\n",
        "        tab_texte = lemmatize_text(tab_texte)   # met sous forme de lemme\n",
        "\n",
        "    return [\" \".join(txt) for txt in tab_texte]"
      ]
    },
    {
      "cell_type": "markdown",
      "metadata": {
        "id": "R3iwyb-LZiuT"
      },
      "source": [
        "# Traitement"
      ]
    },
    {
      "cell_type": "markdown",
      "metadata": {
        "id": "Mb5VwVcmZiuU"
      },
      "source": [
        "### Transformation du jeu de données"
      ]
    },
    {
      "cell_type": "markdown",
      "metadata": {
        "id": "S_e5IG_vZiuU"
      },
      "source": [
        "Concaténer les titres aux textes pour pouvoir appliquer sur les deux "
      ]
    },
    {
      "cell_type": "markdown",
      "metadata": {
        "id": "iuz8YZeWbH0F"
      },
      "source": [
        "# Classification"
      ]
    },
    {
      "cell_type": "markdown",
      "metadata": {
        "id": "S2LBdiTzZiuU"
      },
      "source": [
        "Pré-traitement des variables"
      ]
    },
    {
      "cell_type": "code",
      "execution_count": 10,
      "metadata": {
        "id": "Uf731ZpiZiuV"
      },
      "outputs": [],
      "source": [
        "Xtitle = preTraitement(dfPret[\"title\"], \n",
        "                        selective_pos=['NOUN', 'VERB', 'ADJ'],\n",
        "                        filter_category=False,\n",
        "                        supp_maj=True,\n",
        "                        supp_all_maj=True,\n",
        "                        supp_stopwords=True,\n",
        "                        lemmatisation=True)\n",
        "\n",
        "Xtext = preTraitement(dfPret[\"text\"], \n",
        "                        selective_pos=['NOUN', 'VERB', 'ADJ'],\n",
        "                        filter_category=False,\n",
        "                        supp_maj=True,\n",
        "                        supp_all_maj=True,\n",
        "                        supp_stopwords=True,\n",
        "                        lemmatisation=True)"
      ]
    },
    {
      "cell_type": "markdown",
      "metadata": {
        "id": "fd4akpUJZiuV"
      },
      "source": [
        "Concaténation du texte à traiter"
      ]
    },
    {
      "cell_type": "code",
      "execution_count": 11,
      "metadata": {
        "id": "wMu2nQi2ZiuV"
      },
      "outputs": [],
      "source": [
        "X_title_pret = []\n",
        "X_text_pret = []\n",
        "X_full_pret = []\n",
        "for titre, texte in zip(Xtitle, Xtext):\n",
        "    X_title_pret.append(titre)\n",
        "    X_text_pret.append(texte)\n",
        "    X_full_pret.append(titre + \" \" + texte)\n",
        "\n",
        "# Variable de prédiction\n",
        "y_pret = dfPret[\"our rating\"]"
      ]
    },
    {
      "cell_type": "markdown",
      "metadata": {
        "id": "JojKlccsZiuV"
      },
      "source": [
        "### Création du jeu d'apprentissage"
      ]
    },
    {
      "cell_type": "markdown",
      "metadata": {
        "id": "jKOnYjAfZiuV"
      },
      "source": [
        "Traitement des données avec TF_IDF"
      ]
    },
    {
      "cell_type": "code",
      "execution_count": 12,
      "metadata": {
        "id": "5hrjtIgbZiuV"
      },
      "outputs": [],
      "source": [
        "def transformationTFIDF(X_pret, y_entree):\n",
        "    # Transformation du texte en données utilisables par les classifieurs\n",
        "    tf = TfidfVectorizer(max_features=None, # Mettre un cap sur la taille du tableau\n",
        "                        max_df=0.8)         # limiter aux mots apparaissant dans moins de 80% des docs\n",
        "    X_transformed = tf.fit_transform(X_pret).toarray()\n",
        "\n",
        "    # Séparation du jeu de données\n",
        "    trainsize = 0.8\n",
        "    testsize = 1 - trainsize\n",
        "    seed = 30\n",
        "\n",
        "    X_train, X_test, y_train, y_test = train_test_split(X_transformed, \n",
        "                                                        y_entree, \n",
        "                                                        train_size=trainsize, \n",
        "                                                        random_state=seed, \n",
        "                                                        test_size=testsize)\n",
        "\n",
        "    return X_transformed, X_train, X_test, y_train, y_test"
      ]
    },
    {
      "cell_type": "markdown",
      "metadata": {
        "id": "EcqjpzowZiuW"
      },
      "source": [
        "### Comparaison des classifieurs"
      ]
    },
    {
      "cell_type": "code",
      "execution_count": 13,
      "metadata": {
        "id": "tljOMzDUZiuW"
      },
      "outputs": [],
      "source": [
        "models = []\n",
        "models.append(('MultinomialNB',MultinomialNB()))\n",
        "models.append(('LR', LogisticRegression(solver='lbfgs')))\n",
        "models.append(('KNN', KNeighborsClassifier()))\n",
        "models.append(('CART', DecisionTreeClassifier()))\n",
        "models.append(('RandomForest', RandomForestClassifier()))\n",
        "models.append(('SVM', SVC()))\n",
        "seed = 7\n",
        "\n",
        "def compareClassifiers(X_entree, y_entree):\n",
        "\n",
        "    print(\"\\n═══════════════════════════════════\")\n",
        "    X_transformed, X_train, X_test, y_train, y_test = transformationTFIDF(X_entree, y_entree)\n",
        "\n",
        "    for name, model in models:\n",
        "        print(\"╔════════\"+len(name)*\"═\"+\"════════╗\")\n",
        "        print(\"║        \"+name+\"        ║\")\n",
        "        print(\"╚════════\"+len(name)*\"═\"+\"════════╝\")\n",
        "        start_time = time.time()\n",
        "        clf = model\n",
        "        clf.fit(X_train, y_train)\n",
        "        y_pred = clf.predict(X_test)\n",
        "        classes = np.unique(y_test)\n",
        "        print(f\"Accuracy : {round(accuracy_score(y_test,y_pred),3)}, temps : {round(time.time() - start_time,2)}s\")\n",
        "        # cnf_matrix = confusion_matrix(y_test,y_pred)\n",
        "        # plot_confusion_matrix(cnf_matrix, classes)\n",
        "\n",
        "    return X_transformed, X_train, X_test, y_train, y_test"
      ]
    },
    {
      "cell_type": "code",
      "execution_count": 14,
      "metadata": {
        "colab": {
          "base_uri": "https://localhost:8080/"
        },
        "id": "rfRGXg2uZiuW",
        "outputId": "b1541c75-d6d7-415a-bbbf-4c4be2769414"
      },
      "outputs": [
        {
          "output_type": "stream",
          "name": "stdout",
          "text": [
            "\n",
            "═══════════════════════════════════\n",
            "╔═════════════════════════════╗\n",
            "║        MultinomialNB        ║\n",
            "╚═════════════════════════════╝\n",
            "Accuracy : 0.675, temps : 0.09s\n",
            "╔══════════════════╗\n",
            "║        LR        ║\n",
            "╚══════════════════╝\n",
            "Accuracy : 0.747, temps : 0.56s\n",
            "╔═══════════════════╗\n",
            "║        KNN        ║\n",
            "╚═══════════════════╝\n",
            "Accuracy : 0.578, temps : 0.41s\n",
            "╔════════════════════╗\n",
            "║        CART        ║\n",
            "╚════════════════════╝\n",
            "Accuracy : 0.554, temps : 1.45s\n",
            "╔════════════════════════════╗\n",
            "║        RandomForest        ║\n",
            "╚════════════════════════════╝\n",
            "Accuracy : 0.675, temps : 1.49s\n",
            "╔═══════════════════╗\n",
            "║        SVM        ║\n",
            "╚═══════════════════╝\n",
            "Accuracy : 0.747, temps : 4.38s\n"
          ]
        }
      ],
      "source": [
        "X_full_transformed, X_train, X_test, y_train, y_test  = compareClassifiers(X_full_pret, y_pret)"
      ]
    },
    {
      "cell_type": "markdown",
      "metadata": {
        "id": "SGN_0h-gZiuW"
      },
      "source": [
        "### Comparaison des classifieurs avec des K-fold"
      ]
    },
    {
      "cell_type": "code",
      "execution_count": 15,
      "metadata": {
        "id": "B5Otpsn3ZiuW"
      },
      "outputs": [],
      "source": [
        "def compare_models(models, X_transformed, y, score):\n",
        "    seed = 7\n",
        "\n",
        "    allresults = []\n",
        "    results = []\n",
        "    names = []\n",
        "\n",
        "    for name, model in models:\n",
        "        print(\"════════════════════════════════\")\n",
        "        print(f\"Evaluation de {name}\")\n",
        "        start_time = time.time()\n",
        "\n",
        "        # cross validation en 10 fois\n",
        "        kfold = KFold(n_splits=10, random_state=seed, shuffle=True)\n",
        "\n",
        "        # application de la classification\n",
        "        cv_results = cross_val_score(model, X_transformed, y, cv=kfold, scoring=score)\n",
        "        y_pred = cross_val_predict(model, X_transformed, y, cv=kfold)\n",
        "        print(classification_report(y, y_pred))\n",
        "\n",
        "        thetime = time.time() - start_time\n",
        "        result = Result(name, cv_results.mean(), cv_results.std(), thetime)\n",
        "        allresults.append(result)\n",
        "\n",
        "        # pour affichage\n",
        "        results.append(cv_results)\n",
        "        names.append(name)\n",
        "\n",
        "    allresults = sorted(allresults, key=lambda result: result.scoremean, reverse=True)\n",
        "\n",
        "    # affichage résultats par score décroissant\n",
        "    print(\"\\n Résultats :\")\n",
        "    for result in allresults:\n",
        "        print(f\"{result.name} ({round(result.timespent,1)}s) :\")\n",
        "        print(f\" - {score} : {round(result.scoremean,3)}\")\n",
        "        print(f\" - equart-type : {round(result.stdresult,3)}\")\n",
        "\n",
        "    # affichage graphique\n",
        "    fig = plt.figure()\n",
        "    fig.suptitle(f\"Comparaison des classifieurs en fonction de {score}\")\n",
        "    ax = fig.add_subplot(111)\n",
        "    plt.boxplot(results)\n",
        "    ax.set_xticklabels(names)\n",
        "    ax.tick_params(axis='x', labelsize=10)\n",
        "\n",
        "    return allresults[0].name"
      ]
    },
    {
      "cell_type": "markdown",
      "metadata": {
        "id": "Xtf5UwiqZiuW"
      },
      "source": [
        "Comparaison des classifieurs avec un k-fold"
      ]
    },
    {
      "cell_type": "code",
      "execution_count": 16,
      "metadata": {
        "colab": {
          "base_uri": "https://localhost:8080/",
          "height": 1000
        },
        "id": "QJ0j9-_lZiuY",
        "outputId": "b9f6021a-6a1d-40f9-bb4a-18e89563161e"
      },
      "outputs": [
        {
          "output_type": "stream",
          "name": "stdout",
          "text": [
            "════════════════════════════════\n",
            "Evaluation de MultinomialNB\n",
            "              precision    recall  f1-score   support\n",
            "\n",
            "        FAUX       0.83      0.60      0.69       206\n",
            "        VRAI       0.69      0.88      0.77       206\n",
            "\n",
            "    accuracy                           0.74       412\n",
            "   macro avg       0.76      0.74      0.73       412\n",
            "weighted avg       0.76      0.74      0.73       412\n",
            "\n",
            "════════════════════════════════\n",
            "Evaluation de LR\n",
            "              precision    recall  f1-score   support\n",
            "\n",
            "        FAUX       0.71      0.80      0.75       206\n",
            "        VRAI       0.77      0.68      0.72       206\n",
            "\n",
            "    accuracy                           0.74       412\n",
            "   macro avg       0.74      0.74      0.74       412\n",
            "weighted avg       0.74      0.74      0.74       412\n",
            "\n",
            "════════════════════════════════\n",
            "Evaluation de KNN\n",
            "              precision    recall  f1-score   support\n",
            "\n",
            "        FAUX       0.69      0.57      0.62       206\n",
            "        VRAI       0.63      0.74      0.68       206\n",
            "\n",
            "    accuracy                           0.66       412\n",
            "   macro avg       0.66      0.66      0.65       412\n",
            "weighted avg       0.66      0.66      0.65       412\n",
            "\n",
            "════════════════════════════════\n",
            "Evaluation de CART\n",
            "              precision    recall  f1-score   support\n",
            "\n",
            "        FAUX       0.63      0.62      0.62       206\n",
            "        VRAI       0.62      0.64      0.63       206\n",
            "\n",
            "    accuracy                           0.63       412\n",
            "   macro avg       0.63      0.63      0.63       412\n",
            "weighted avg       0.63      0.63      0.63       412\n",
            "\n",
            "════════════════════════════════\n",
            "Evaluation de RandomForest\n",
            "              precision    recall  f1-score   support\n",
            "\n",
            "        FAUX       0.73      0.79      0.76       206\n",
            "        VRAI       0.77      0.71      0.74       206\n",
            "\n",
            "    accuracy                           0.75       412\n",
            "   macro avg       0.75      0.75      0.75       412\n",
            "weighted avg       0.75      0.75      0.75       412\n",
            "\n",
            "════════════════════════════════\n",
            "Evaluation de SVM\n",
            "              precision    recall  f1-score   support\n",
            "\n",
            "        FAUX       0.69      0.86      0.77       206\n",
            "        VRAI       0.82      0.62      0.71       206\n",
            "\n",
            "    accuracy                           0.74       412\n",
            "   macro avg       0.75      0.74      0.74       412\n",
            "weighted avg       0.75      0.74      0.74       412\n",
            "\n",
            "\n",
            " Résultats :\n",
            "SVM (58.8s) :\n",
            " - accuracy : 0.74\n",
            " - equart-type : 0.051\n",
            "LR (13.7s) :\n",
            " - accuracy : 0.738\n",
            " - equart-type : 0.061\n",
            "MultinomialNB (2.0s) :\n",
            " - accuracy : 0.738\n",
            " - equart-type : 0.066\n",
            "RandomForest (18.6s) :\n",
            " - accuracy : 0.737\n",
            " - equart-type : 0.074\n",
            "KNN (2.5s) :\n",
            " - accuracy : 0.655\n",
            " - equart-type : 0.091\n",
            "CART (10.5s) :\n",
            " - accuracy : 0.653\n",
            " - equart-type : 0.101\n"
          ]
        },
        {
          "output_type": "display_data",
          "data": {
            "text/plain": [
              "<Figure size 640x480 with 1 Axes>"
            ],
            "image/png": "[encoded data removed]"
          },
          "metadata": {}
        }
      ],
      "source": [
        "best_accuracy = compare_models(models, X_full_transformed, y_pret, \"accuracy\")"
      ]
    },
    {
      "cell_type": "markdown",
      "metadata": {
        "id": "ZE3PpbU5ZiuY"
      },
      "source": [
        "## Etude du meilleur classifieur"
      ]
    },
    {
      "cell_type": "markdown",
      "metadata": {
        "id": "DgeZdf6EZiuY"
      },
      "source": [
        "### Définition des paramètres"
      ]
    },
    {
      "cell_type": "code",
      "execution_count": 17,
      "metadata": {
        "id": "_mqevPKoZiuY"
      },
      "outputs": [],
      "source": [
        "params = {\n",
        " 'GaussianNB' :\n",
        "    [{'var_smoothing': np.logspace(0,-9, num=100)}],\n",
        "\n",
        " 'RandomForest':[{'bootstrap': [True, False],\n",
        "    'max_depth': [10, 20, 30, 40, 50, 60, 70, 80, 90, 100, None],\n",
        "    'max_features': ['auto', 'sqrt'],\n",
        "    'min_samples_leaf': [1, 2, 4],\n",
        "    'min_samples_split': [2, 5, 10],\n",
        "    'n_estimators': [200, 400, 600, 800, 1000, 1200, 1400, 1600, 1800, 2000]}],\n",
        "\n",
        " 'LR' : [{'penalty' : ['l1', 'l2', 'elasticnet', 'none'],\n",
        "    'C' : np.logspace(-4, 4, 20),\n",
        "    'solver' : ['lbfgs','newton-cg','liblinear','sag','saga'],\n",
        "    'max_iter' : [100, 1000,2500, 5000]\n",
        "    }],\n",
        "\n",
        "  'CART' : [{'max_depth': [2, 3, 5, 10, 21],\n",
        "    'min_samples_leaf': [5, 10,16 ,20, 50, 100],\n",
        "    'criterion': [\"gini\", \"entropy\"]}],\n",
        "\n",
        "  'SVM' : [{\n",
        "      'C': [0.1,1, 10, 100], \n",
        "      'gamma': [1,0.1,0.01,0.001],\n",
        "      'kernel': ['rbf', 'poly', 'sigmoid']}\n",
        "           ],\n",
        "\n",
        "  'KNN' : [{ 'n_neighbors' : [5,7,9,11,13,15],\n",
        "               'weights' : ['uniform','distance'],\n",
        "               'metric' : ['minkowski','euclidean','manhattan']}],\n",
        "\n",
        "  'MultinomialNB' : [{\n",
        "    'alpha': np.linspace(0.5, 1.5, 6),\n",
        "    'fit_prior': [True, False]}]\n",
        "}\n",
        "\n",
        "params_lite = {\n",
        "    'GaussianNB' :\n",
        "        [{'var_smoothing': np.logspace(0,-9, num=100)}],\n",
        "\n",
        "    'RandomForest':[{'n_estimators': [4, 6, 9],\n",
        "           'max_features': ['log2', 'sqrt','auto'],\n",
        "           'criterion': ['entropy', 'gini'],\n",
        "           'max_depth': [10, 20],\n",
        "           'min_samples_split': [2, 3, 5],\n",
        "           'min_samples_leaf': [1,5,8]\n",
        "           }],\n",
        "\n",
        "    'LR' : [{'C' : [0.001,0.01,0.1,1,10,100]}],\n",
        "\n",
        "    'CART' : [{'max_depth': [1,2,3,4,5,6,7,8,9,10],\n",
        "               'criterion': ['gini', 'entropy'],\n",
        "               'min_samples_leaf': [1,2,3,4,5,6,7,8,9,10]}],\n",
        "\n",
        "    'SVM' : [{'C': [0.001, 0.01, 0.1, 1, 10],\n",
        "              'gamma' : [0.001, 0.01, 0.1, 1],\n",
        "              'kernel': ['linear','rbf']}],\n",
        "\n",
        "    'KNN' : [{ 'n_neighbors' : [5,7,9,11,13,15],\n",
        "               'weights' : ['uniform','distance'],\n",
        "               'metric' : ['minkowski','euclidean','manhattan']}],\n",
        "\n",
        "    'MultinomialNB' : [{\n",
        "        'alpha': np.linspace(0.5, 1.5, 6),\n",
        "        'fit_prior': [True, False]}]\n",
        "}"
      ]
    },
    {
      "cell_type": "markdown",
      "metadata": {
        "id": "e3sOpDVTZiuY"
      },
      "source": [
        "Récupération des paramètres du meilleur classifieur"
      ]
    },
    {
      "cell_type": "code",
      "execution_count": 18,
      "metadata": {
        "colab": {
          "base_uri": "https://localhost:8080/"
        },
        "id": "2Dp1GbjAZiuY",
        "outputId": "f2c4a14b-89cd-45ea-dc13-fe27621f6b8b"
      },
      "outputs": [
        {
          "output_type": "stream",
          "name": "stdout",
          "text": [
            "Meilleur classifieur pour l'accuracy : SVM\n"
          ]
        }
      ],
      "source": [
        "print(f\"Meilleur classifieur pour l'accuracy : {best_accuracy}\")\n",
        "    \n",
        "for name, model in models:\n",
        "    if best_accuracy == name:\n",
        "        best_model_name = name\n",
        "        best_model = model\n",
        "        best_params_lite = params_lite[name]\n",
        "        best_params = params[name]  # Long 💀💀💀\n",
        "        break"
      ]
    },
    {
      "cell_type": "markdown",
      "metadata": {
        "id": "XL1wwldmZiuY"
      },
      "source": [
        "## Variation des hyperparamètres du meilleur classifieur"
      ]
    },
    {
      "cell_type": "markdown",
      "metadata": {
        "id": "KyqJqZWhZiuZ"
      },
      "source": [
        "Fonction de test des hyperparamètres"
      ]
    },
    {
      "cell_type": "code",
      "execution_count": 19,
      "metadata": {
        "id": "q7oy0EtOZiuZ"
      },
      "outputs": [],
      "source": [
        "def testDesHyperParams(model, params, score):\n",
        "    gd_sr = GridSearchCV(estimator=model,\n",
        "                        param_grid=params,\n",
        "                        scoring=score,\n",
        "                        cv=5,\n",
        "                        n_jobs=-1,\n",
        "                        return_train_score=True)\n",
        "\n",
        "    gd_sr.fit(X_train, y_train)\n",
        "\n",
        "    return gd_sr"
      ]
    },
    {
      "cell_type": "markdown",
      "metadata": {
        "id": "OlLhk1EpZiuZ"
      },
      "source": [
        "Tests des hyperparamètres sur les différents scores"
      ]
    },
    {
      "cell_type": "code",
      "execution_count": 21,
      "metadata": {
        "colab": {
          "base_uri": "https://localhost:8080/"
        },
        "id": "d1Cav2i4ZiuZ",
        "outputId": "272f5df2-dc5b-4b2f-ae4b-018605fbe0f6"
      },
      "outputs": [
        {
          "output_type": "stream",
          "name": "stdout",
          "text": [
            "meilleur score pour accuracy : 0.784\n",
            "meilleurs paramètres : {'C': 1, 'gamma': 0.001, 'kernel': 'linear'}\n",
            "meilleur estimateur : SVC(C=1, gamma=0.001, kernel='linear')\n"
          ]
        }
      ],
      "source": [
        "score = \"accuracy\"\n",
        "\n",
        "gridSearch = testDesHyperParams(best_model, best_params_lite, score)\n",
        "best_estimator = gridSearch.best_estimator_\n",
        "\n",
        "print(f\"meilleur score pour {score} : {round(gridSearch.best_score_, 3)}\")\n",
        "print(f\"meilleurs paramètres : {gridSearch.best_params_}\")\n",
        "print(f\"meilleur estimateur : {best_estimator}\")"
      ]
    },
    {
      "cell_type": "markdown",
      "metadata": {
        "id": "WK3Utkw2ZiuZ"
      },
      "source": [
        "## Création du pipeline"
      ]
    },
    {
      "cell_type": "markdown",
      "metadata": {
        "id": "AbGX_TMQZiuZ"
      },
      "source": [
        "Fonction pour la création du pipeline"
      ]
    },
    {
      "cell_type": "code",
      "execution_count": 42,
      "metadata": {
        "id": "fV5YynirZiuZ"
      },
      "outputs": [],
      "source": [
        "def grosPipeline(toTrain, toPredict, estimator):\n",
        "\n",
        "    # Application du downSampling sur les dataFrames\n",
        "    toTrain = downSampling(toTrain)\n",
        "    toPredict = downSampling(toPredict)\n",
        "\n",
        "    XtitleTrain = toTrain[\"title\"]\n",
        "    XtextTrain = toTrain[\"text\"]\n",
        "    XallTrain = []\n",
        "    for titre, texte in zip(XtitleTrain, XtextTrain):\n",
        "        XallTrain.append(titre + \" \" + texte)\n",
        "\n",
        "    XtitleTest = toPredict[\"title\"]\n",
        "    XtextTest = toPredict[\"text\"]\n",
        "    XallTest = []\n",
        "    for titre, texte in zip(XtitleTest, XtextTest):\n",
        "        XallTest.append(titre + \" \" + texte)\n",
        "\n",
        "    X_train = preTraitement(XallTrain, \n",
        "                                selective_pos=['NOUN', 'VERB', 'ADJ'],\n",
        "                                filter_category=False,\n",
        "                                supp_maj=True,\n",
        "                                supp_all_maj=True,\n",
        "                                supp_stopwords=True,\n",
        "                                lemmatisation=True)\n",
        "\n",
        "    X_test = preTraitement(XallTest, \n",
        "                            selective_pos=['NOUN', 'VERB', 'ADJ'],\n",
        "                            filter_category=False,\n",
        "                            supp_maj=True,\n",
        "                            supp_all_maj=True,\n",
        "                            supp_stopwords=True,\n",
        "                            lemmatisation=True)    \n",
        "    \n",
        "\n",
        "    y_train = toTrain[\"our rating\"]\n",
        "    y_test = toPredict[\"our rating\"]\n",
        "    \n",
        "    # X_train, X_test, y_train, y_test = train_test_split(X_train, \n",
        "    #                                                   y_train, \n",
        "    #                                                   train_size=0.8, \n",
        "    #                                                   random_state=40, \n",
        "    #                                                   test_size=0.2)\n",
        "    \n",
        "\n",
        "    tf = TfidfVectorizer()\n",
        "    X_train_transformed = tf.fit_transform(X_train).toarray()\n",
        "    X_test_transformed = tf.transform(X_test).toarray()\n",
        "\n",
        "    clf = RandomForestClassifier()\n",
        "\n",
        "    # Entrainer le classifieur sur le jeu de données d'entraînement\n",
        "    clf.fit(X_train_transformed, y_train)\n",
        "\n",
        "    # Faire des prédictions sur le jeu de données de test\n",
        "    y_pred = clf.predict(X_test_transformed)\n",
        "                                                  \n",
        "    # Calculer les métriques d'évaluation\n",
        "    class_names = toTrain[\"our rating\"].unique().tolist()\n",
        "    p, r, f, s = precision_recall_fscore_support(y_test, y_pred, labels=class_names)\n",
        "\n",
        "    print(f\"Performances du pipe : accuracy = {round(accuracy_score(y_test, y_pred),3)}\")\n",
        "    # Affichage les résultats\n",
        "    print(\"════════════════════════════════\")\n",
        "    print(\"Classification report:\")\n",
        "    print(classification_report(y_test, y_pred))\n",
        "    print(\"════════════════════════════════\")\n",
        "    print(\"Precision, recall, f1-score et support par classe :\")\n",
        "    for i, (lbl, a, b, c, d) in enumerate(zip(class_names, p, r, f, s)):\n",
        "      print(f\"Classe {lbl} : {round(a,2)}, {round(b,2)}, {round(c,2)}, {d}\")\n",
        "    print(\"════════════════════════════════\")\n",
        "    print(\"Matrice de confusion : \")\n",
        "    plot_confusion_matrix(confusion_matrix(y_test,y_pred), np.unique(y_test))"
      ]
    },
    {
      "cell_type": "markdown",
      "metadata": {
        "id": "As8C5Z2FZiua"
      },
      "source": [
        "## Utilisation du pipeline sur le jeu de test"
      ]
    },
    {
      "cell_type": "code",
      "execution_count": 43,
      "metadata": {
        "colab": {
          "base_uri": "https://localhost:8080/",
          "height": 831
        },
        "id": "27BjmyUXZiua",
        "outputId": "e09891da-9cf6-4af0-95bb-391f26beb320"
      },
      "outputs": [
        {
          "output_type": "stream",
          "name": "stdout",
          "text": [
            "Performances du pipe : accuracy = 0.683\n",
            "════════════════════════════════\n",
            "Classification report:\n",
            "              precision    recall  f1-score   support\n",
            "\n",
            "        FAUX       0.64      0.84      0.73       210\n",
            "        VRAI       0.77      0.52      0.62       210\n",
            "\n",
            "    accuracy                           0.68       420\n",
            "   macro avg       0.70      0.68      0.68       420\n",
            "weighted avg       0.70      0.68      0.68       420\n",
            "\n",
            "════════════════════════════════\n",
            "Precision, recall, f1-score et support par classe :\n",
            "Classe FAUX : 0.64, 0.84, 0.73, 210\n",
            "Classe VRAI : 0.77, 0.52, 0.62, 210\n",
            "════════════════════════════════\n",
            "Matrice de confusion : \n"
          ]
        },
        {
          "output_type": "display_data",
          "data": {
            "text/plain": [
              "<Figure size 800x500 with 2 Axes>"
            ],
            "image/png": "[encoded data removed]"
          },
          "metadata": {}
        }
      ],
      "source": [
        "dfTrain = dfFakeNews.copy()\n",
        "dfTest = dfFakeNewsTest.copy()\n",
        "\n",
        "grosPipeline(dfTrain, dfTest, best_estimator)"
      ]
    },
    {
      "cell_type": "markdown",
      "metadata": {
        "id": "NFYRb0-dZiua"
      },
      "source": [
        "## Mise en production du modèle"
      ]
    },
    {
      "cell_type": "markdown",
      "metadata": {
        "id": "KcmGFoCsZiua"
      },
      "source": [
        "## Fonction pour la mise en production du modèle"
      ]
    },
    {
      "cell_type": "code",
      "execution_count": 44,
      "metadata": {
        "id": "NVQiwxEsZiua"
      },
      "outputs": [],
      "source": [
        "def miseEnProduction(toPredict, filename, estimator):\n",
        "\n",
        "    # Application du downSampling sur le dataFrame\n",
        "    toPredict = downSampling(toPredict)\n",
        "\n",
        "    Xtitle = toPredict[\"title\"]\n",
        "    Xtext = toPredict[\"text\"]\n",
        "    Xall = []\n",
        "    for titre, texte in zip(Xtitle, Xtext):\n",
        "        Xall.append(titre + \" \" + texte)\n",
        "\n",
        "    X_pret = preTraitement(Xall, \n",
        "                            selective_pos=['NOUN', 'VERB', 'ADJ'],\n",
        "                            filter_category=False,\n",
        "                            supp_maj=True,\n",
        "                            supp_all_maj=True,\n",
        "                            supp_stopwords=True,\n",
        "                            lemmatisation=True)\n",
        "    \n",
        "\n",
        "    y = toPredict[\"our rating\"]\n",
        "    \n",
        "    tf = TfidfVectorizer()\n",
        "    X_transformed = tf.fit_transform(X_pret).toarray()\n",
        "\n",
        "    scaler = StandardScaler()\n",
        "    scaler.fit(X_transformed)\n",
        "    \n",
        "    model = estimator\n",
        "    model.fit(X_transformed, y)\n",
        "\n",
        "    pickle.dump(model, open(f\"{filename}-model.pkl\", 'wb'))\n",
        "    pickle.dump(tf, open(f\"{filename}-vectorizer.pkl\", 'wb'))\n",
        "    pickle.dump(scaler, open(f\"{filename}-scaler.pkl\", 'wb'))\n",
        "\n",
        "    print(f\"Modèle sauvegardé dans : {filename}\")"
      ]
    },
    {
      "cell_type": "markdown",
      "metadata": {
        "id": "G4f6rBM7Ziua"
      },
      "source": [
        "Fonction de prédiction utilisant le modèle enregistré"
      ]
    },
    {
      "cell_type": "code",
      "execution_count": 45,
      "metadata": {
        "id": "Z0DZtDHjZiua"
      },
      "outputs": [],
      "source": [
        "def predict_fake_news(article, filename):\n",
        "    \n",
        "    model = pickle.load(open(f\"{filename}-model.pkl\", 'rb'))\n",
        "    vectorizer = pickle.load(open(f\"{filename}-vectorizer.pkl\", 'rb'))\n",
        "    scaler = pickle.load(open(f\"{filename}-scaler.pkl\", 'rb'))\n",
        "\n",
        "    X_entree = preTraitement(article,\n",
        "                            selective_pos=['NOUN', 'VERB', 'ADJ'],\n",
        "                            filter_category=False,\n",
        "                            supp_maj=True,\n",
        "                            supp_all_maj=True,\n",
        "                            supp_stopwords=True,\n",
        "                            lemmatisation=True)\n",
        "    \n",
        "    # tf = TfidfVectorizer()        \n",
        "    X_transformed = vectorizer.transform(X_entree).toarray()\n",
        "\n",
        "    # Appliquer le scaler sur le vecteur de caractéristiques\n",
        "    X_test_scaled = scaler.transform(X_transformed)\n",
        "\n",
        "    # Prédire la classe du texte en entrée\n",
        "    prediction = model.predict(X_test_scaled)\n",
        "    \n",
        "    # Afficher la prédiction\n",
        "    for i in range(len(prediction)):\n",
        "      print(f\"L'article {i+1} est : {prediction[i]}\")"
      ]
    },
    {
      "cell_type": "markdown",
      "metadata": {
        "id": "nxbkwQ7HZiua"
      },
      "source": [
        "Mise en production du modèle avec le jeu de données au complet"
      ]
    },
    {
      "cell_type": "code",
      "execution_count": 46,
      "metadata": {
        "colab": {
          "base_uri": "https://localhost:8080/"
        },
        "id": "90bYT-wcZiub",
        "outputId": "d4a8c73d-0e14-494f-e880-8ce7b1cd39e9"
      },
      "outputs": [
        {
          "output_type": "stream",
          "name": "stdout",
          "text": [
            "Modèle sauvegardé dans : Models/FakeNewsTrue-False\n"
          ]
        }
      ],
      "source": [
        "filename = \"Models/FakeNewsTrue-False\"\n",
        "if not os.path.exists(\"Models\"):\n",
        "    os.makedirs(\"Models\")\n",
        "\n",
        "dfProd = dfFakeNews.copy()\n",
        "\n",
        "miseEnProduction(dfProd, filename, best_estimator)"
      ]
    },
    {
      "cell_type": "markdown",
      "metadata": {
        "id": "5YSF7IIIZiub"
      },
      "source": [
        "## Prédiction d'articles avec le modèle"
      ]
    },
    {
      "cell_type": "markdown",
      "metadata": {
        "id": "TsGQxhUeZiub"
      },
      "source": [
        "Prédiction d'un vrai article du New York Times"
      ]
    },
    {
      "cell_type": "code",
      "execution_count": 47,
      "metadata": {
        "colab": {
          "base_uri": "https://localhost:8080/"
        },
        "id": "agWzp3zKZiub",
        "outputId": "708049ed-2b64-4d56-f7ec-2945f06329da"
      },
      "outputs": [
        {
          "output_type": "stream",
          "name": "stdout",
          "text": [
            "L'article 1 est : VRAI\n",
            "L'article 2 est : VRAI\n",
            "L'article 3 est : VRAI\n",
            "L'article 4 est : VRAI\n",
            "L'article 5 est : FAUX\n",
            "L'article 6 est : FAUX\n"
          ]
        }
      ],
      "source": [
        "articles_a_tester = []\n",
        "\n",
        "# Articles vrais (New York Time)\n",
        "title1 = u\"\"\"Specter of Trump Loosens Tongues, if Not Purse Strings, in Silicon Valley\"\"\"\n",
        "text1 = u\"\"\"After years of scorning the political process, Silicon Valley has leapt into the fray. The prospect of a President Donald J. Trump is pushing the tech community to move beyond its traditional role as donors and to embrace a new existence as agitators and activists. A distinguished venture capital firm emblazoned on its corporate home page an earthy   epithet. One prominent tech chieftain says the consequences of Mr. Trump’s election would “range between disastrous and terrible. ” Another compares him to a dictator. And nearly 150 tech leaders signed an open letter decrying Mr. Trump and his campaign of “anger” and “bigotry. ” Not quite all the action is  . Peter Thiel, a founder of PayPal and Palantir who was the first outside investor in Facebook, spoke at the Republican convention in July. The New York Times reported on Saturday that Mr. Thiel is giving $1. 25 million to support Mr. Trump’s candidacy even as other supporters flee. (He also recently gave $1 million to a “super PAC” that supports Senator Rob Portman, the Republican freshman running for   in Ohio.) Getting involved in politics used to be seen as clashing with Silicon Valley’s value system: You transform the world by making problems obsolete, not solving them through Washington. Nor did entrepreneurs want to alienate whatever segment of customers did not agree with them politically. Such reticence is no longer in style here. “We’re a bunch of nerds not used to having a lot of limelight,” said Dave McClure, an investor who runs a tech incubator called 500 Startups. “But to quote   ‘With great power comes great responsibility. ’” Mr. McClure grew worried after the Republican and Democratic conventions as Mr. Trump began to catch up to Hillary Clinton in the polls. He wanted Silicon Valley to do more, and so late last month he announced Nerdz4Hillary, an informal   effort. An initial group of donors pledged $50, 000 the goal was to ask the “nerdz” for small donations to match that sum. They have not come through yet. “We’re kind of optimistic we’ll get the other $50, 000 in a few weeks,” Mr. McClure said. That relatively slow pace reflects Silicon Valley’s shifting position: Even as it becomes increasingly free with its opinions, it has been less free with its checkbook. The most recent data, from late August, shows Mrs. Clinton taking in $7. 7 million from the tech community, according to Crowdpac, a   that tracks donations. By that point in 2012, Crowdpac says, President Obama had raised $21 million from entrepreneurs and venture capitalists. Reid Hoffman, the billionaire   of the business networking site LinkedIn, offers a snapshot of Silicon Valley’s evolving approach to politics. Mr. Hoffman was a top Obama donor, giving $1 million to the Priorities USA political action committee, something several of his peers did as well. Last month, Mr. Hoffman garnered worldwide publicity for saying he would donate up to $5 million to veterans’ groups if Mr. Trump released his taxes, a remote possibility that never came to pass. He has castigated Mr. Trump in interviews, saying he was speaking for those who were afraid. Mr. Hoffman’s outright donations, however, have been smaller this election cycle. In May, he gave $400, 000 to the Hillary Victory Fund. Asked if there was more recent giving that had not shown up in federal election records, Mr. Hoffman cryptically responded in an email, “Looking at some PACs, etc. ” He declined several opportunities to elaborate. Even as Priorities USA has raised $133 million this election cycle, far exceeding its total in 2012, its tech contributions have dwindled. The only familiar tech name this time around is John Doerr of the venture capital firm Kleiner Perkins Caufield  Byers, who gave $500, 000. The AOL   Steve Case said his September endorsement of Mrs. Clinton, via an   in The Washington Post, was the first time he ever publicly declared for a candidate. “I always focused on policy and avoided politics,” he said. “But if Trump were elected president, I would be disappointed in myself for not acting. ” When he wrote the   he was uncertain about donating money to Mrs. Clinton, saying only that it was “probable. ” A spokeswoman said Sunday that Mr. Case gave $25, 000 to the Hillary Victory Fund. Mason Harrison, Crowdpac’s head of communications, offered a possible reason for Mrs. Clinton’s    support. “Donors give to support candidates they love, not to defeat candidates they fear,” he said. A few billionaires are acting instead of talking. Dustin Moskovitz, a founder of Facebook, said he was giving $20 million to various Democratic election efforts  —   the first time he and his wife, Cari Tuna, have endorsed a candidate. He declined to be interviewed. Part of the problem for Mrs. Clinton is that, however preferable she may be to Mr. Trump in the tech community, she pales in comparison to President Obama. After some initial misgivings, Silicon Valley found its champion in him. There has been a revolving door between tech and the Obama administration, just as previous Democratic administrations had a revolving door with Wall Street. In June, President Obama seemed to suggest that he might become a venture capitalist after his term ends. Mrs. Clinton is not as enthusiastic toward Silicon Valley and its disruptive ways. In a speech in the summer of 2015, she noted that   in the “  or   gig economy”  —   Uber, Airbnb and their ilk  —   were “unleashing innovation” but also “raising hard questions about workplace protection and what a good job will look like in the future. ” The Clinton campaign declined to comment. The Trump campaign did not respond to a query. Even as Silicon Valley works against Mr. Trump, there is quiet acknowledgment that his campaign has bared some important issues. In an endorsement this month of Mrs. Clinton, the venture capital firm Union Square Ventures pointed out that “the benefits of technology and globalization have not been evenly distributed,” and that this needed to change. If Silicon Valley’s political involvement outlasts this unusual election, the tech community may start contributing more to the process than commentary and cash. “Not only are tech people going to be wielding influence, but they’re going to be the candidate,” Mr. McClure said. “Reid Hoffman, Sheryl Sandberg”  —   the chief operating officer of Facebook  —   “and a bunch of other folks here have political aspirations. ” Others may be inspired to enter politics through other doors. Palmer Luckey is the    founder of the Oculus virtual reality company, which he sold to Facebook for $2 billion. Mr. Luckey donated $10, 000 to a group dedicated to spreading    messages about Mrs. Clinton both online and off. The group’s first billboard, said to be outside Pittsburgh, labeled her “Too Big to Jail. ” Mr. Luckey told The Daily Beast that his thinking “went along the lines of, ‘Hey, I have a bunch of money. I would love to see more of this stuff. ’He added, I thought it sounded like a real jolly good time. Many virtual reality developers were less happy, and Mr. Luckey quickly posted his regrets on Facebook. He declined to comment further. If we’re going to be more vocal, we’ll have to live more transparently, said Hunter Walk, a venture capitalist whose campaign to persuade tech companies to give workers Election Day off signed up nearly 300 firms, including Spotify, SurveyMonkey and TaskRabbit. There will be a period of adjustment. But perhaps being vocal is a temporary condition after all. The venture firm CRV was in the spotlight at the end of August with its blunt   message, which included the earthy epithet. A few weeks later, it cleaned up its website. The partners went from employing a publicist to seek out attention to declining interviews. We reached everyone we wanted to reach, and hopefully influenced opinions, said Saar Gur, a CRV venture capitalist. Then the buzz died down and we went back to our day jobs, which are super busy.\"\"\"\n",
        "title2 = u\"\"\"Many in U.K. Greet King Charles’s Coronation With a ‘Take It or Leave It’ Shrug\"\"\"\n",
        "text2 = u\"\"\"When King Charles III is crowned on Saturday, he will undergo a ritual so rare in modern British history that it last occurred 70 years ago, roughly the wait between sightings of Halley’s comet. And yet the coronation has yet to capture the imagination of a Britain preoccupied by other concerns. Images of the new king — in chocolate, in Legos and in wax — are popping up in bakeries, toy stores and at Madame Tussauds wax museum. Ancient relics of coronation, like the Scottish stone of destiny, are being delivered to Westminster Abbey for the ceremony. Charles and his queen consort, Camilla, are rehearsing every step of the service in a specially staged room at Buckingham Palace. But in a recent poll of 3,070 adults in Britain by the market research firm YouGov, 64 percent of respondents said they had little or no interest in the coronation. Only a third said they were strongly or fairly interested in it. Among those aged 18 to 24, the number voicing little or no interest rose to 75 percent. “Love for the royal family has sort of declined,” said Jason Abdalla, 24, an information technology worker outside a pub last Friday in the exclusive Mayfair neighborhood of London. “It feels like appreciating the monarchy is an older, more mature thing. I mean, my parents are into it. They love the royal family. It’s ‘take it or leave it,’ for me.” There are other, less generational explanations for the lack of excitement, like the rainy spring weather, which may loosen its grip in time for the May 6 ceremony, and Britain’s economic doldrums, which have focused public attention on the cost of bread rather than what cynics might label bread-and-circuses. Then, too, there is the contrast between King Charles and his mother, Queen Elizabeth II. Her coronation in 1953 introduced a poised young monarch who was thrust on the throne by the death of her father, King George VI, and became a beloved icon. At 74, Charles is a familiar figure, one whose foibles have been dissected in the news media for decades and who still presides over a dysfunctional family. “He is not a romantic figure like she was,” said Ed Owens, a historian who has written about the interplay between the monarchy and the news media. “He is a complex human personality whose private life we know a great deal more about than we did with the queen in 1953.” Whereas the queen’s coronation symbolized a new start for the country and the royal family, Mr. Owens said, Charles’s coronation comes after a period of family feuds that has left the House of Windsor divided and diminished. “He’s inheriting a crown that has been shaken by events over the last five years, and tarnished by those events as well,” Mr. Owens said.\"\"\"\n",
        "title3 = u\"\"\"Airman in Leaks Case Worked on a Global Network Essential to Drone Missions\"\"\"\n",
        "text3 = u\"\"\"WASHINGTON — On an Air National Guard base in Cape Cod, Mass., more than 1,200 military service members and civilians maintain one of the largest support systems for Pentagon drone missions around the world. One of the workers was Airman First Class Jack Teixeira, the 21-year-old accused of posting top-secret military reports online. Why such a young junior-ranking service member on Cape Cod had access to sensitive intelligence, including battlefield updates on the war in Ukraine, has to do with the vast expansion in military drone operations in the post-9/11 wars that was made possible by better satellite communication networks. It is also the result of a drastic reorganization in the Air National Guard that left small, far-flung air bases in need of new responsibilities. The one on Cape Cod and many others became intelligence outfits. His arrest and subsequent Justice Department disclosures shined a light on a little-known Air Force mission that began in the 1990s and grew rapidly, eventually spreading to the base on Cape Cod. Called the Distributed Common Ground System, it is a vast computer network that handles the immense amounts of data generated by surveillance drones, spy satellites and other sensors — information that intelligence analysts pore through and pass along to troops on the ground. Usually referred to as D.C.G.S., it carries top-secret information, and working on it requires an equivalent security clearance. The system is now a worldwide network, but according to the Air Force, it started small at just three Air Force bases — Langley in Virginia, Beale in California and Osan in South Korea — and expanded in the early 2000s as the U.S. military placed more communication satellites in space and demand for airborne surveillance surged. In 2001, according to Pentagon leadership, the U.S. military had about 200 drones in service. In the years that followed, commanders in Afghanistan and later in Iraq wanted more of them. Many more. The network soon expanded to two more bases: Ramstein, in Germany, in early 2003 and Hickam, in Honolulu, in late 2004, Air Force documents say. According to two retired Air Force intelligence officers with direct experience in the system, a key decision by Congress at that time freed up a large labor pool to serve at new sites. In 2005, the Pentagon’s Base Realignment and Closure commission made recommendations that affected most of the Air National Guard’s aviation units, with 14 of them losing their flying mission, the Government Accountability Office reported. The move left thousands of air guardsmen without jobs, the officers said, speaking on the condition of anonymity because of their continuing work for companies that do business with the federal government. One of those units was the 102nd Fighter Wing at a base called Otis on Cape Cod. Men and women from that Air National Guard wing and other former flying units began training to work on the Distributed Common Ground System, learning to run its computers and analyze intelligence from spy planes and the ever-increasing numbers of drones flying in combat missions overseas, the retired officers said. In a speech to the Air War College in 2008, Robert M. Gates, then the secretary of defense, said the number of unmanned aircraft in service with the U.S. military had increased to more than 5,000. Stations for the network were soon established at Air National Guard bases in Indiana and at Otis, where Jack Teixeira’s stepfather made the transition from the 102nd Fighter Wing to a post at the newly christened 102nd Intelligence Wing. Today, there are 27 D.C.G.S. stations in the United States and two foreign countries, according to Air Force documents. But the original five are the busiest, operating nonstop year-round, the retired officers said. Each of those sites is supported by a corresponding Air National Guard unit. The unit in Germany is currently in great demand because it serves the U.S. European Command, and, by extension, America’s support of Ukraine in its war with Russia. The Ramstein station is backed up by the 102nd Intelligence Wing at Joint Base Cape Cod, the officers said, which is supported by the 102nd Intelligence Support Squadron, where Airman Teixeira is stationed. By 2019, when Airman Teixeira joined the Air National Guard, the U.S. military was operating more than 11,000 drones, according to the Pentagon. In 2021, his top-secret clearance was approved, Justice Department charging documents said, allowing him entry into the facility, which has an operations floor filled with computer terminals and flat-screen televisions showing live video feeds from classified drone missions. Some sites have operations facilities many thousands of square feet in size, the officers said. Cellphones are not allowed inside. Small teams of airmen at the units typically talk to pilots flying high-altitude U-2 spy planes and RQ-4 Global Hawks as well as MQ-9 Reapers and MQ-1 Predators over combat zones. Airmen like Mr. Teixeira typically fix hardware and software problems and conduct routine maintenance for hours at a time in what is essentially an I.T. support shop while others collect intelligence that they can transmit to ground forces around the world, the officers said. According to his messages on Discord, Airman Teixeira alternated between working eight-hour shifts five days a week and 12-hour shifts for three or four days at a time followed by three or four days off. How the intelligence reports were allegedly removed from secure spaces remains unclear. President Biden has instructed officials to get to the root of why Airman Teixeira “had access in the first place,” and Pentagon leaders are reviewing how intelligence is shared and who will have access to certain reports in the future. The Air Force announced on April 18 that it had temporarily shut down the 102nd Intelligence Wing’s missions, which have been transferred to “other organizations” in the service. In the most recent fallout, two of Airman Teixeira’s superiors at the wing have been suspended pending the completion of an internal investigation by the Air Force inspector general, the service said. Their access to classified information has been temporarily blocked, a spokeswoman added.\"\"\"\n",
        "\n",
        "# Articles faux (WELFake Dataset)\n",
        "title4 = u\"\"\"Schumer calls on Trump to appoint official to oversee Puerto Rico relief\"\"\"\n",
        "text4 = u\"\"\"WASHINGTON (Reuters) - Charles Schumer, the top Democrat in the U.S. Senate, called on President Donald Trump on Sunday to name a single official to oversee and coordinate relief efforts in hurricane-ravaged Puerto Rico. Schumer, along with Representatives Nydia VelÃ zquez and Jose Serrano, said a â€œCEO of response and recoveryâ€ is needed to manage the complex and ongoing federal response in the territory, where millions of Americans remain without power and supplies. In a statement, Schumer said the current federal response to Hurricane Mariaâ€™s impact on the island had been â€œdisorganized, slow-footed and mismanaged.â€ â€œThis person will have the ability to bring all the federal agencies together, cut red tape on the public and private side, help turn the lights back on, get clean water flowing and help bring about recovery for millions of Americans who have gone too long in some of the worst conditions,â€ he said. The White House did not immediately respond to a request for comment. The Democrats contended that naming a lone individual to manage the governmentâ€™s relief efforts was critical, particularly given that the Federal Emergency Management Agency is already stretched thin from dealing with other crises, such as the aftermath of Hurricane Harvey in Texas and the wildfires in California. The severity of the Puerto Rico crisis, where a million people do not have clean water and millions are without power nearly a month after Hurricane Maria made landfall, demand a single person to focus exclusively on relief and recovery, the Democrats said. Forty-nine people have died in Puerto Rico officially, with dozens more missing. The hurricane did extensive damage to the islandâ€™s power grid, destroying homes, roads and other vital infrastructure. Now, the bankrupt territory is struggling to provide basic services like running water, and pay its bills. â€œItâ€™s tragically clear this Administration was caught flat footed when Maria hit Puerto Rico,â€ said VelÃ zquez. â€œAppointing a CEO of Response and Recovery will, at last, put one person with authority in charge to manage the response and ensure we are finally getting the people of Puerto Rico the aid they need.â€ On Thursday, Trump said the federal response has been a â€œ10â€ on a scale of one to 10 at a meeting with Puerto Rico Governor Ricardo Rossello.  The governor has asked the White House and Congress for at least $4.6 billion in block grants and other types of funding. Senator Marco Rubio called on Congress to modify an $18.7 billion aid package for areas damaged by a recent swath of hurricanes to ensure that Puerto Rico can quickly access the funds.\"\"\"\n",
        "title5 = u\"\"\"No Change Expected for ESPN Political Agenda Despite Huge Subscriber Decline - Breitbart\"\"\"\n",
        "text5 = u\"\"\"As more and more sports fans turn off ESPN to protest the networkâ€™s   social and political agenda, parent company Disneyâ€™s decision to extend current CEO Bob Igerâ€™s contract through 2019 means the â€œworldâ€™s leader in sports entertainmentâ€ will continue on its merry way of alienating a large segment of Americans. [Breitbart reported in November that ESPN lost 3. 2 million subscribers in just over a year. Moreover, for the last few years the sports network has lost 300, 000 subscribers a month. In October alone, the beleaguered network lost 621, 000 subscribers.   The decision to keep Iger instead of moving in another direction, such as promoting COO Thomas Staggs to the spot, has a number of substantial business implications for ESPN. Awful Announcing reports: From the outside, at least, it seems like Iger is quite satisfied with ESPNâ€™s leadership and with the networkâ€™s path on most fronts. Specifically, heâ€™s regularly spoken about how important it is for ESPN to be in â€œskinny bundlesâ€ (including streaming options from Sling, DirecTV and more) and about ESPNâ€™s forthcoming    offering. Those views wouldnâ€™t necessarily be shared by a different CEO Staggs, for example, spoke much more about the importance of the traditional   bundle, so a Disney CEO with his views might focus more on that side, or conversely, another Disney CEO might want ESPN to quickly go into    in a larger way (standalone access to all ESPN content, including TV channels) rather than starting with the   light approach Iger seems to be promoting. Putting those circumstances aside, the crux of ESPN continuing on in its political and social agenda derives from the fact that Iger is a strident lifelong Democrat. One so committed, in fact, that the Disney stalwart   a Hillary Clinton fundraiser last summer along with   supporters such as entertainment Mogul Haim Saban, Chernin Group chairman and CEO Peter Chernin, and entertainment and sports executive Casey Wasserman.  To get an idea of Igerâ€™s taste on social issues, one of his proposed â€œentertainmentâ€ ideas is a filmic version of Girls, a popular television show starring Lena Dunham. Somewhat surprisingly, and to the chagrin of many of his supporters and shareholders, Iger is serving on President Donald Trumpâ€™s Strategic and Policy Forum council of CEOs. Iger agrees with Trump on shutting down certain tax loopholes and strongly supports lowering corporate tax rates (no surprise there).  Earlier this month, Iger reportedly defended his participation in Trumpâ€™s mastermind group, asserting, â€œI think there is an opportunity for me to express views that I think   â€¦     are of value to the company and its shareholders. â€ Insisting that he wonâ€™t be   Iger informs that he will be â€œadversarial to the view of the administration,â€ which includes â€œimmigration. â€ Yet, the CEO argues that claims asserting ESPN is politically slanted are â€œjust a complete exaggeration. â€ With that said, it looks like ESPNâ€™s cable subscription downward spiral will persist as long as Iger remains as Disneyâ€™s top executive.\"\"\"\n",
        "title6 = u\"\"\"U.N. seeks humanitarian pause in Sanaa where streets \"battlegrounds\"\"\"\n",
        "text6 = u\"\"\"GENEVA (Reuters) - The United Nations called on Monday for a humanitarian pause in the Yemeni capital of Sanaa on Tuesday to allow civilians to leave their homes, aid workers to reach them, and the wounded to get medical care. Jamie McGoldrick, U.N. humanitarian coordinator in Yemen, said in a statement that the streets of Sanaa had become  battlegrounds  and that aid workers  remain in lockdown .  Thus, I call on all parties to the conflict to urgently enable a humanitarian pause on Tuesday 5 December, between 10:00 a.m. and 16:00 p.m. to allow civilians to leave their homes and seek assistance and protection and to facilitate the movement of aid workers to ensure the continuity of life-saving programs,  he said.  McGoldrick warned the warring parties that any deliberate attacks against civilians, and against civilian and medical infrastructure, are  clear violations of international humanitarian law and may constitute war crimes.\"\"\"\n",
        "\n",
        "articles_a_tester.append(title1 + text1)\n",
        "articles_a_tester.append(title2 + text2)\n",
        "articles_a_tester.append(title3 + text3)\n",
        "articles_a_tester.append(title4 + text4)\n",
        "articles_a_tester.append(title5 + text5)\n",
        "articles_a_tester.append(title6 + text6)\n",
        "\n",
        "predict_fake_news(articles_a_tester, filename)"
      ]
    }
  ],
  "metadata": {
    "colab": {
      "provenance": []
    },
    "deepnote": {},
    "deepnote_execution_queue": [],
    "deepnote_notebook_id": "64ea982d3b244dcebea24c3bd8028525",
    "kernelspec": {
      "display_name": "Python 3",
      "language": "python",
      "name": "python3"
    },
    "language_info": {
      "codemirror_mode": {
        "name": "ipython",
        "version": 3
      },
      "file_extension": ".py",
      "mimetype": "text/x-python",
      "name": "python",
      "nbconvert_exporter": "python",
      "pygments_lexer": "ipython3",
      "version": "3.6.4"
    }
  },
  "nbformat": 4,
  "nbformat_minor": 0
}